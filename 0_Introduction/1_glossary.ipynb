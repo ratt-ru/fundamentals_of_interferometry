{
 "cells": [
  {
   "cell_type": "markdown",
   "metadata": {},
   "source": [
    "## Glossary <a id='preface:sec:glossary'></a>"
   ]
  },
  {
   "cell_type": "markdown",
   "metadata": {},
   "source": [
    "### A"
   ]
  },
  {
   "cell_type": "markdown",
   "metadata": {},
   "source": [
    "**azimuth:** the azimuth angle is measured in the celestial horizon from due north towards the east.\n",
    "\n",
    "**altitude:** altitude of a celestial object is the angle between it and the celestial horizon.\n",
    "\n",
    "**altitude-azimuth mount:** an antenna mount which allows the antenna to track a source in the sky by rotating along two axes - altitude (vertical) and azimuth (horizontal)."
   ]
  },
  {
   "cell_type": "markdown",
   "metadata": {},
   "source": [
    "### B"
   ]
  },
  {
   "cell_type": "markdown",
   "metadata": {},
   "source": [
    "### C"
   ]
  },
  {
   "cell_type": "markdown",
   "metadata": {},
   "source": [
    "**celestial equator:** the celestial equator is in the same plane as the equator of the earth and is obtained by projecting the equator of the earth onto the celestial sphere.\n",
    "\n",
    "**celestial horizon:** observer's horizontal plane and is the fundamental plane of the horizontal coordinate system.\n",
    "\n",
    "**celestial sphere:** imaginary unit sphere surrounding the earth onto which all the celestial objects in the universe is projected."
   ]
  },
  {
   "cell_type": "markdown",
   "metadata": {},
   "source": [
    "### D"
   ]
  },
  {
   "cell_type": "markdown",
   "metadata": {},
   "source": [
    "**declination:** the declination of an object is the  angular distance it is away from the celestial equator measured along its hour circle (it is positive in the northern celestial hemisphere and negative in the southern celestial hemisphere).\n",
    "\n",
    "**density weighting function:** see *weighting, density*\n",
    "\n",
    "**direction cosine coordinates:** an astronomical coordinate system based on the direction cosines $l$, $m$ and $n$ which is often used in radio interferometry to create local sky maps around a target source. The fourier relationship that exists between the visibility and the image space in interferometry becomes apparent in this coordinate system.\n",
    "\n",
    "**direction-dependent effects:** propagation effects which vary with direction.\n",
    "\n",
    "**direction-independent effects:** propagation effects which are the same in all directions.\n",
    "\n",
    "**dirty image:** see *image, dirty*"
   ]
  },
  {
   "cell_type": "markdown",
   "metadata": {},
   "source": [
    "### E"
   ]
  },
  {
   "cell_type": "markdown",
   "metadata": {},
   "source": [
    "**ecliptic:** the imaginary path the sun transverses on the celestial sphere.\n",
    "\n",
    "**elevation:** see *altitude*.\n",
    "\n",
    "**equatorial coordinate system:** widely used coordinate system which is used to keep track of celestial objects.The fundamental plane of this coordinate system is obtained by projecting the earth's equator onto the celestial sphere.  \n",
    "\n",
    "**equatorial mount:** an antenna mount which allows the antenna to track a source in the sky by rotating about the polar axis (i.e., an axis which points towards the celestial pole)."
   ]
  },
  {
   "cell_type": "markdown",
   "metadata": {},
   "source": [
    "### F"
   ]
  },
  {
   "cell_type": "markdown",
   "metadata": {},
   "source": [
    "**field centre:** see phase centre.\n",
    "\n",
    "**fringe pattern:** sinusoidal function describing the position of a spatial domain source in the spatial frequency domain.\n",
    "\n",
    "**first point of Aries:** the point on the celestial sphere where the sun crosses the celestial equator from south to north.\n",
    "\n",
    "**full width at half maximum (FWHM):** the extent of a function between the two extreme positions which are at the half value point of the peak value, a metric used to define the scale of various distributions and beams."
   ]
  },
  {
   "cell_type": "markdown",
   "metadata": {},
   "source": [
    "### G"
   ]
  },
  {
   "cell_type": "markdown",
   "metadata": {},
   "source": [
    "**great circular arc**: a great circular arc is an arc segment of a great circle.\n",
    "\n",
    "**great circle**: a great circle is formed by the intersection of a sphere and a plane that passes through the center of the sphere."
   ]
  },
  {
   "cell_type": "markdown",
   "metadata": {},
   "source": [
    "### H"
   ]
  },
  {
   "cell_type": "markdown",
   "metadata": {},
   "source": [
    "**horizontal coordinate system:** the horizontal coordinates is used to enable an observer on earth to locate celestial objects in an observer's local sky.  \n",
    "\n",
    "**hour circle:** the hour circle of an object is the circle on the celestial sphere that crosses the NCP and the object itself and is perpendicular to the celestial equator.\n",
    "\n",
    "**hour angle:** hour angle of a celestial body is the angular distance (measured in hours) between the hour circle of a celestial object and the local meridian measured along the celestial equator in a westerly direction."
   ]
  },
  {
   "cell_type": "markdown",
   "metadata": {},
   "source": [
    "### I"
   ]
  },
  {
   "cell_type": "markdown",
   "metadata": {},
   "source": [
    "**image, dirty:** the image produced by Fourier transforming the sampled visibilities of an interferometric observation, approximately the ideal sky image convolved with the array PSF response. This is the initial image input to deconvolution algorithms."
   ]
  },
  {
   "cell_type": "markdown",
   "metadata": {},
   "source": [
    "### J"
   ]
  },
  {
   "cell_type": "markdown",
   "metadata": {},
   "source": [
    "### K"
   ]
  },
  {
   "cell_type": "markdown",
   "metadata": {},
   "source": [
    "### L"
   ]
  },
  {
   "cell_type": "markdown",
   "metadata": {},
   "source": [
    "**latitude:** the angular distance of a location north or south of the earth's equator. \n",
    "\n",
    "**local meridian**: is the hour circle on the celestial sphere which we form when we connect the NCP with zenith.\n",
    "\n",
    "**local sidereal time (LST)**: hour angle of the vernal equinox.\n",
    "\n",
    "**longitude:** the angular distance of a location east or west of the meridian at Greenwich.\n",
    "\n",
    "**low noise amplifier (LNA):** the first amplifier in the analogue electronics front-end chain, used to amplify the weak sky signal at the cost of introducing a small amount of system noise."
   ]
  },
  {
   "cell_type": "markdown",
   "metadata": {},
   "source": [
    "### M"
   ]
  },
  {
   "cell_type": "markdown",
   "metadata": {},
   "source": [
    "### N"
   ]
  },
  {
   "cell_type": "markdown",
   "metadata": {},
   "source": [
    "**nadir:** the position on the celestial sphere opposite zenith.\n",
    "\n",
    "**natural weighting:** see *weighting, natural*\n",
    "\n",
    "**north celestial pole (NCP):** obtained by projecting the north pole of the earth onto the celestial sphere."
   ]
  },
  {
   "cell_type": "markdown",
   "metadata": {},
   "source": [
    "### O"
   ]
  },
  {
   "cell_type": "markdown",
   "metadata": {},
   "source": [
    "### P"
   ]
  },
  {
   "cell_type": "markdown",
   "metadata": {},
   "source": [
    "**parallactic angle:** spherical angle between the great circle on the celestial sphere through the source and the zenith, and the great circle through the source and the north celestial pole.\n",
    "\n",
    "**phase centre:** the position on the sky in which an array has been 'phased' to, the reference position in the direction cosine coordinate system. \n",
    "\n",
    "**point spread function (PSF):** the effect of the measuring system has on a point source in the image domain. This is effectively the Fourier transform of the visibility domain sampling function. In historical literature it is often called the *synthesized beam*.\n",
    "\n",
    "**Polaris:** a star located close to the NCP.\n",
    "\n",
    "**precession:** a change in the orientation of the rotational axis of a rotating body.\n",
    "\n",
    "**primary beam:** directional dependence of the gain of an antenna."
   ]
  },
  {
   "cell_type": "markdown",
   "metadata": {},
   "source": [
    "### Q"
   ]
  },
  {
   "cell_type": "markdown",
   "metadata": {},
   "source": [
    "### R"
   ]
  },
  {
   "cell_type": "markdown",
   "metadata": {},
   "source": [
    "**radiation pattern**: see **primary beam**.\n",
    "\n",
    "**radio frequency interference (RFI):** man-made radio waves which corrupt the desired sky signal.\n",
    "\n",
    "**right ascension:** the right ascension of an object is the angular distance between the vernal equinox and the hour circle of a celestial object measured along the celestial equator and is measured in an easterly direction.\n",
    "\n",
    "**robust weighting:** see *weighting, robust*"
   ]
  },
  {
   "cell_type": "markdown",
   "metadata": {},
   "source": [
    "### S"
   ]
  },
  {
   "cell_type": "markdown",
   "metadata": {},
   "source": [
    "**sampling function:** in signal processing a discrete function which transforms a continuous signal to a discrete signal.\n",
    "\n",
    "**sidereal day:** a sidereal day is the amount of time it takes for an arbitrary star to return to the same location in the sky.\n",
    "\n",
    "**solar day:** a solar day is the time it takes for the sun to return to the same position in the sky. \n",
    "\n",
    "**spatial domain:** a signal domain in which the relative distance between sample positions is directly related to the physical relative position of the signals, e.g. an image of a field of stars.\n",
    "\n",
    "**spatial frequency domain:** a signal domain where the amplitude and phase of sampled position describes the intensity and offset of a complex sinusoidal wave. The relative position of samples represents how similar the frequency and angle of the two samples are.\n",
    "\n",
    "**spherical triangle:** a spherical triangle is formed by the pairwise intersection of three great circular arcs in three vertices.\n",
    "\n",
    "**south celestial pole (SCP):** obtained by projecting the south pole of the earth onto the celestial sphere.\n",
    "\n",
    "**synthesized beam:** see *point spread function (PSF)*.\n",
    "\n",
    "**system temperature:** a measure of the noisiness of the telescope and electronics, related to the sensitivity of the telescope."
   ]
  },
  {
   "cell_type": "markdown",
   "metadata": {},
   "source": [
    "### T"
   ]
  },
  {
   "cell_type": "markdown",
   "metadata": {},
   "source": [
    "**transit:** a celestial body is at transit when it crosses the local meridian. \n",
    "\n",
    "**taper weighting function:** see *weighting, taper*"
   ]
  },
  {
   "cell_type": "markdown",
   "metadata": {},
   "source": [
    "### U"
   ]
  },
  {
   "cell_type": "markdown",
   "metadata": {},
   "source": [
    "**uniform weighting:** see *weighting, uniform*"
   ]
  },
  {
   "cell_type": "markdown",
   "metadata": {},
   "source": [
    "### V"
   ]
  },
  {
   "cell_type": "markdown",
   "metadata": {},
   "source": [
    "**vernal equinox:** see *first point of Aries*.\n",
    "\n",
    "**visibilities:** discrete measurements of the spatial frequency (visibility) domain from a set of interferometric baselines."
   ]
  },
  {
   "cell_type": "markdown",
   "metadata": {},
   "source": [
    "### W"
   ]
  },
  {
   "cell_type": "markdown",
   "metadata": {},
   "source": [
    "**weighting, density:** a function used to set the data sample significance when combining overlapping visibility samples, necessary for producing a synthesised image.\n",
    "\n",
    "**weighting, natural:** weighting scheme which maximizes sensitivity, minimizes PSF side-lobes but at the cost of resolution. Also called inverse variance weighting.\n",
    "\n",
    "**weighting, robust:** a parameterized weighting scheme to balance between resolution and sensitivity.\n",
    "\n",
    "**weighting, taper:** a function which acts as a spatial filter to select out certain scales when producing a synthesised image.\n",
    "\n",
    "**weighting, uniform:** weighting scheme which maximizes resolution but at the cost of higher PSF side-lobes. Also called unity weighting."
   ]
  },
  {
   "cell_type": "markdown",
   "metadata": {},
   "source": [
    "### X"
   ]
  },
  {
   "cell_type": "markdown",
   "metadata": {},
   "source": [
    "### Y"
   ]
  },
  {
   "cell_type": "markdown",
   "metadata": {},
   "source": [
    "### Z"
   ]
  },
  {
   "cell_type": "markdown",
   "metadata": {},
   "source": [
    "**zenith:** zenith is the position on the celestial sphere which lies directly above an observer on earth."
   ]
  },
  {
   "cell_type": "markdown",
   "metadata": {},
   "source": [
    "### Symbols"
   ]
  },
  {
   "cell_type": "markdown",
   "metadata": {},
   "source": [
    "* $\\lambda$ : Wavelength (m)\n",
    "* $\\nu$ : Frequency (Hz)\n",
    "\n",
    "* $\\mathbf{B}$ : Brightness Coherence Matrix\n",
    "* $\\boldsymbol{\\mathcal{D}}$, $\\boldsymbol{\\mathcal{M}}$ : Unpolarized Visibility Matrices.\n",
    "* $\\mathbf{e}$ : Electric Field Vector\n",
    "* $\\varepsilon_{\\nu}$: Radiative emission coefficient\n",
    "* $\\boldsymbol{\\mathcal{G}}$ : Unpolarized gain Matrix\n",
    "* $\\boldsymbol{\\mathscr{G}}$ : $\\mathbf{g}\\mathbf{g}^H$\n",
    "* $I$ : Sky Brightness\n",
    "* $I,Q,U,V$ : Stokes Parameters. Not to be confused with sky brightness and visibilities.\n",
    "* $\\mathbf{J}$ : Jones matrix, standard examples:\n",
    "    * $\\mathbf{D}$ : feed leakage\n",
    "    * $\\mathbf{E}$ : primary beam\n",
    "    * $\\mathbf{F}$ : Faraday rotation\n",
    "    * $\\mathbf{G}$ : gain\n",
    "    * $\\mathbf{K}$ : geometric delay\n",
    "    * $\\mathbf{P}$ : parallactic angle\n",
    "* Jy : Jansky, Flux density unit, $1\\ \\mathrm{Jy} = 10^{-26} \\ \\mathrm{W\\, m^{-2}\\, Hz^{-1}}$\n",
    "* $\\kappa_{\\nu}$ : Radiative absorption coefficient\n",
    "* $L$: Bolometric Luminosity (W/s, ergs/s)\n",
    "* $L_{\\nu}$: Spectral luminosity ($\\mathrm{W\\ s^{-1} \\ Hz^{-1}}$ or $\\mathrm{ergs\\, s^{-1} \\, Hz^{-1}}$)\n",
    "* $\\boldsymbol{\\mathcal{M}}$ : see $\\boldsymbol{\\mathcal{D}}$\n",
    "* $P$ : Power (W, ergs)\n",
    "* $\\mathbf{S}$ : Stokes Vector, contains Stokes Parameters $I,Q,U,V$\n",
    "* $S_{\\nu}$: Flux density ($\\mathrm{W m^{-2} s^{-1}}$ or $\\mathrm{ergs\\ cm^{-2} s^{-1}}$)\n",
    "* $s_{\\nu}$: Radiative efficiency: $s_\\nu = \\frac{\\varepsilon_\\nu}{\\kappa_\\nu}$\n",
    "* $T$ : Temperature (K)\n",
    "* $\\tau_\\nu$ : Optical depth\n",
    "* $\\mathbf{v}$ : Voltage Vector\n",
    "* $\\mathscr{V}$ : Visibility function (not the measurement, but underlying continuous function).\n",
    "* $V$ : Visibilities (set of measurements)\n",
    "* $\\mathbf{V}$ : Polarized visibilities"
   ]
  },
  {
   "cell_type": "markdown",
   "metadata": {},
   "source": [
    "#### Constants\n",
    "* Imaginary Number: $\\imath$ = $\\sqrt{-1}$\n",
    "* Speed of light in vacuum: $c= 299 \\ 792 \\ 458 \\ \\mathrm{m\\, s^{-1}}$\n",
    "* Boltzmann Constant: $k_{B}= 1.38064852 \\times 10^{-23} \\ \\mathrm{m^2\\, kg\\, s^{-2}\\, K^{-1}}$\n",
    "* Planck constant: $h = 6.62607015 \\times 10^{−34}\\ \\mathrm{J\\, Hz^{−1}}$"
   ]
  },
  {
   "cell_type": "markdown",
   "metadata": {},
   "source": [
    "#### Instrumental parameters\n",
    "* $N$ - Number of antennas\n",
    "* $D$ - Diameter of Dish\n",
    "* $A$ - Area of Dish\n",
    "* $A_\\text{eff}$ - Effective area \n",
    "* $\\mathbf{b}$ - Baseline vector\n",
    "* $|\\mathbf{b}|$ - Baseline length\n",
    "* $\\theta_r$ - Angular resolution (e.g. FWHM of PSF)\n",
    "* $\\Delta \\theta$ - Field of view or angular area\n",
    "* $uv$ - Shortcut when speaking about uv coverage in general, uv components ...\n",
    "\n",
    "\n",
    "#### Reference frame\n",
    "* $L_a$ - Observer latitude\n",
    "* $L_o$ - Observer longitude\n",
    "* $\\gamma$ - Vernal point\n",
    "* $\\alpha$ - Right Ascension\n",
    "* $\\delta$ - Declination (can also represent a delta function)\n",
    "* $H$ - Hour Angle\n",
    "* $\\mathcal{A}$ - Azimuth\n",
    "* $\\mathcal{E}$ - Elevation\n",
    "* $q$ - Parallactic Angle\n",
    "\n",
    "\n",
    "* ($x, y, z$) - Cartesian coordinates\n",
    "* ($\\rho,\\theta,\\varphi$) - Spherical coordinates\n",
    "* ($l,m$, $n$) - Direction Cosines\n",
    "* ($X,Y$, $Z$) - Equatorial Coordinate Reference Frame (Baselines)\n",
    "* ($u,v$, $w$) - Visibility Coordinate System\n",
    "\n",
    "\n",
    "* $\\mathbf{\\hat{e}_x},\\mathbf{\\hat{e}_y},\\mathbf{\\hat{e}_z}$ - Basis for cartesian\n",
    "* $\\mathbf{\\hat{e}_{\\rho}},\\mathbf{\\hat{e}_{\\theta}},\\mathbf{\\hat{e}_{\\varphi}}$ - Basis for spherical\n",
    "* $\\mathbf{\\hat{e}_X},\\mathbf{\\hat{e}_Y},\\mathbf{\\hat{e}_Z}$ - Basis for equatorial XYZ\n",
    "* $\\mathbf{\\hat{e}_u},\\mathbf{\\hat{e}_v},\\mathbf{\\hat{e}_w}$ - Basis for uvw\n",
    "* $\\mathbf{\\hat{e}_l},\\mathbf{\\hat{e}_m},\\mathbf{\\hat{e}_n}$ - Basis for lmn\n",
    "\n",
    "#### Math & Operators\n",
    "\n",
    "* $\\Re \\{\\cdot\\},\\Im\\{\\cdot\\}$ - Real and imaginary part\n",
    "* $(\\cdot)^*$ - Conjugation\n",
    "* $|\\cdot|$ - Magnitude of a vector or determinant of a matrix\n",
    "* $\\|\\cdot\\|$ - Norm\n",
    "\n",
    "* $\\angle F$ - Phase of F (in radians)\n",
    "* $\\phi$ - Phase (e.g. $e^{i\\phi}$) (in radians)\n",
    "\n",
    "* $\\mathbf{a}\\cdot \\mathbf{b}$ - Scalar product\n",
    "* $\\circ$ - Convolution\n",
    "* $\\star$ - Cross-correlation\n",
    "* $C$ - Convolution Kernel\n",
    "* $\\mathcal{O}(\\cdot)$ dominated\n",
    "* $(\\cdot)^T$ - Transpose\n",
    "* $(\\cdot)^H$ - Hermitian Transpose\n",
    "* $(\\cdot)^{-1}$ - Matrix Inversion\n",
    "* $\\mathbb{J}$ - Jacobian matrix\n",
    "* $\\mathbb{H}$ - Hessian matrix\n",
    "* $\\odot$ - Hadamard Product\n",
    "* $(\\cdot)^{\\odot-1}$ - Hadamard Inverse\n",
    "\n",
    "* $(\\cdot)_L$ - Lower Half of Vector\n",
    "* $(\\cdot)_U$ - Upper Half of Vector\n",
    "* $\\textrm{vec}(\\cdot)$ - Vectorization\n",
    "* $\\textrm{vec}^{-1}(\\cdot)$ - Matrization\n",
    "\n",
    "* $\\textrm{diag}(\\cdot)$ - Creates a matrix by placing operand (which should be a vector) on diagonal, all other entries are zero\n",
    "\n",
    "\n",
    "* $\\mathscr{F}\\{\\cdot\\},$ - Fourier transform operator\n",
    "* $\\mathscr{F}_D\\{\\cdot\\}_k,$ - Discrete Fourier transform operator. The subscript denotes its $k^{th}$ element.\n",
    "* $\\mathscr{F}^{-1}\\{\\cdot\\}$ - Inverse Fourier transform operator\n",
    "* $\\mathscr{F}^{-1}_D\\{\\cdot\\}_n$ - Inverse discrete Fourier transform operator The subscript denotes its $n^{th}$ element.\n",
    "* $F \\stackrel{\\mathscr{F}}{\\rightleftharpoons} E$ - Fourier pairs\n",
    "\n",
    "\n",
    "* $\\Omega$ - Solid angle\n",
    "* $\\widehat{\\beta}$ - Angular quantity (when context is ambiguous) otherwise nothing\n",
    "* $\\mathbb{C}$ - field of complex numbers\n",
    "* $\\mathbb{C}^0$ - field of continuous functions\n",
    "* $\\mathbb{R}$ - field of real numbers\n",
    "* $\\mathbb{N}^0$ - set of natural numbers (including 0)\n",
    "* $\\Rightarrow$ - symbol for \"leads to\"\n",
    "* $\\Leftrightarrow$ - symbol for \"is equivalent with\"\n",
    "* $\\frac{d}{dx}$ - derivative\n",
    "\n",
    "#### Signal processing & Algorithm\n",
    "\n",
    "* $\\delta x$ - Update Step\n",
    "* $\\tau$ - Integration Time\n",
    "* $\\Delta \\nu$ - Bandwidth \n",
    "* $<\\cdot>_t$ - Averaging in time\n",
    "* $<\\cdot>_\\nu$ - Averaging in frequency\n",
    "\n",
    "\n",
    "* $\\delta$ - Delta function\n",
    "* $\\Pi$ - Boxcar function\n",
    "* $III$ - Shah function\n",
    "* $S$ - Sampling function\n",
    "* $\\text{sinc}_{\\mathrm u}$ - Unnormalized Sinc function\n",
    "* $\\text{sinc}$ - Normalized Sinc function\n",
    "* $H$ - Heaviside function\n",
    "* $\\mathbf{r}$ - Residual Vector\n",
    "* $\\mathbf{g}$ - Gain Vector\n",
    "* $\\breve{\\mathbf{g}}$ - $[\\Re\\{\\mathbf{g}\\},\\Im\\{\\mathbf{g}\\}]$\n",
    "* $\\mathbf{d}$ - Data Vector\n",
    "* $\\mathbf{m}$ - Model Vector\n",
    "* $\\lambda_{\\textrm{LM}}$ - Levenberg-Marquardt Damping Factor"
   ]
  }
 ],
 "metadata": {
  "@webio": {
   "lastCommId": null,
   "lastKernelId": null
  },
  "kernelspec": {
   "display_name": "Python 3",
   "language": "python",
   "name": "python3"
  },
  "language_info": {
   "codemirror_mode": {
    "name": "ipython",
    "version": 3
   },
   "file_extension": ".py",
   "mimetype": "text/x-python",
   "name": "python",
   "nbconvert_exporter": "python",
   "pygments_lexer": "ipython3",
   "version": "3.6.5"
  }
 },
 "nbformat": 4,
 "nbformat_minor": 1
}
