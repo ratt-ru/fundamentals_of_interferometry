{
 "cells": [
  {
   "cell_type": "markdown",
   "metadata": {},
   "source": [
    "***\n",
    "\n",
    "* [Outline](../0_Introduction/0_introduction.ipynb)\n",
    "* [Glossary](../0_Introduction/1_glossary.ipynb)\n",
    "* [1. Radio Science using Interferometric Arrays](1_0_introduction.ipynb)  \n",
    "    * Previous: [1.9 A brief introduction to interferometry](1_9_a_brief_introduction_to_interferometry.ipynb)\n",
    "    * Next: [1.11 Modern Interferometric Arrays](1_11_modern_interferometric_arrays.ipynb)\n",
    "   \n",
    "***"
   ]
  },
  {
   "cell_type": "markdown",
   "metadata": {},
   "source": [
    "Section status: <span style=\"background-color:yellow\">&nbsp;&nbsp;&nbsp;&nbsp;</span>\n",
    "\n",
    "Import standard modules:"
   ]
  },
  {
   "cell_type": "code",
   "execution_count": null,
   "metadata": {},
   "outputs": [],
   "source": [
    "import numpy as np\n",
    "import matplotlib.pyplot as plt\n",
    "%matplotlib inline\n",
    "from IPython.display import HTML \n",
    "HTML('../style/course.css') #apply general CSS"
   ]
  },
  {
   "cell_type": "markdown",
   "metadata": {},
   "source": [
    "Import section specific modules:"
   ]
  },
  {
   "cell_type": "code",
   "execution_count": null,
   "metadata": {},
   "outputs": [],
   "source": [
    "import ipywidgets\n",
    "from IPython.display import Image"
   ]
  },
  {
   "cell_type": "code",
   "execution_count": null,
   "metadata": {},
   "outputs": [],
   "source": [
    "HTML('../style/code_toggle.html')"
   ]
  },
  {
   "cell_type": "markdown",
   "metadata": {},
   "source": [
    "## 1.10 The Limits of Single Dish Astronomy"
   ]
  },
  {
   "cell_type": "markdown",
   "metadata": {},
   "source": [
    "In the [previous section &#10142;](1_9_a_brief_introduction_to_interferometry.ipynb) of this chapter we introduced the concepts and historical background of interferometry.  Earlier in the chapter we presented some of the basic astrophysical sources which emit in the radio spectrum. In this section we will try to answer why we need to use interferometry in radio astronomy. A related question we will try to answer is why we can not just use a single telescope as in traditional optical astronomy.\n",
    "\n",
    "Single telescopes are used in radio astronomy, and provide complimentary observational data to that of interferometric arrays. Astronomy with a single radio telescope is often called *single dish astronomy* as the telescope usually has a dish reflector (Figure 1.10.1). This dish is usually parabolic, but other shapes are also used, as it allows for the focusing of light to a single focal point where a receiver is placed - among other instruments this could be a camera in the optical, a bolometer in the far-infrared, or an antenna feed in the radio. Instead of a single dish telescope, a more general term would be a single *element* telescope which can be as simple as a dipole (Figure 1.10.2). An interferometric array (Figure 1.10.3) is used to create a *synthesized telescope* as it is considered a single telescope synthesized out of many elements (each element is also a telescope, it can get even more confusing)."
   ]
  },
  {
   "cell_type": "code",
   "execution_count": null,
   "metadata": {},
   "outputs": [],
   "source": [
    "Image(filename='figures/hart_26m_15m_2012-09-11_08511.jpg')"
   ]
  },
  {
   "cell_type": "markdown",
   "metadata": {},
   "source": [
    "**Figure 1.10.1:** *The 26 meter dish at HartRAO, South Africa used for single dish observations and as part of interferometric VLBI networks. Credit: [M Gaylard / HartRAO&#10548;](http://www.hartrao.ac.za/gallery/hart_26m+15m_2012-09-11_08511.JPG)*"
   ]
  },
  {
   "cell_type": "code",
   "execution_count": null,
   "metadata": {},
   "outputs": [],
   "source": [
    "Image(filename='figures/kaira_lba_element.jpg')"
   ]
  },
  {
   "cell_type": "markdown",
   "metadata": {},
   "source": [
    "**Figure 1.10.2:** *LOFAR LBA dipole element. Credit: [KAIRA/D. McKay-Bukowski&#10548;](http://2.bp.blogspot.com/-PbnZmI4iiEc/U_C-5rPthuI/AAAAAAAAEKU/iuHEGEK7NLo/s1600/Photo1566.jpg)*"
   ]
  },
  {
   "cell_type": "code",
   "execution_count": null,
   "metadata": {},
   "outputs": [],
   "source": [
    "Image(filename='../5_Imaging/figures/2013_kat7_20.jpg')"
   ]
  },
  {
   "cell_type": "markdown",
   "metadata": {},
   "source": [
    "**Figure 1.10.3:** *Inner 6 dishes of KAT-7, a 7 element interferometric array located in South Africa which can be combined into a single synthesized telescope. Credit: [SKA-SA&#10548;](https://www.sarao.ac.za/wp-content/uploads/2016/06/2013_kat7_20-1030x686.jpg)*"
   ]
  },
  {
   "cell_type": "markdown",
   "metadata": {},
   "source": [
    "Depending on the science goals of an experiment or observatory, different types of telescopes are built. So what is the main driver for building an interferometric array to create a synthesized telescope? It all comes down to the resolution of a telescope, a property which is related to the wavelength of incoming light and the physical size of the telescope."
   ]
  },
  {
   "cell_type": "markdown",
   "metadata": {},
   "source": [
    "### 1.10.1. Aperture Diameter and Angular Resolution"
   ]
  },
  {
   "cell_type": "markdown",
   "metadata": {
    "collapsed": true
   },
   "source": [
    "If we consider a generic radio telescope dish, ignoring blockage from feeds and structure and any practical issues, we can think of the dish as having a circular aperture. We will use the term 'primary beam' later in Chapter 7 to discuss this aperture in detail. Until then we can think of the dish aperture size as being the *collecting area*. The larger the aperture the more collecting area, thus the more *sensitive* (a measure of how well the telescope is able to measure a signal) the telescope. This is the same as in photography. Since we are modelling our simple telescope as a circle then the collection area $A$, or aperture size, is proportional to the square of the dish diameter $D$.\n",
    "\n",
    "$$A \\propto D^2$$\n",
    "\n",
    "A larger aperture also increases the maximum *angular resolution* of the telescope i.e. the ability to differentiate between two sources (say stars) which are separated by some angular distance. Using the *Rayleigh criterion*, the angular resolution $\\Delta \\theta$ (in radians) of a dish of diameter $D$ is\n",
    "\n",
    "$$\\Delta \\theta = 1.22 \\frac{\\lambda}{D}$$\n",
    "\n",
    "where $\\lambda$ is the observing wavelength. Since light in the radio regime of the electromagnetic spectrum has a longer wavelength compared to that in the optical regime, we can see that a radio telescope with the same collecting area diameter as an optical telescope will have a much lower angular resolution.\n",
    "\n",
    "<div class=warn>\n",
    "<b>Warning:</b> Note that a higher value of $\\Delta \\theta$ implies lower angular resolution and vice versa. \n",
    "</div>\n",
    "\n",
    "The sensitivity of a telescope is directly proportional to its collecting area. The angular resolution of the telescope is inversely proportional to the aperture diameter. Usually, we want both high sensitivity and fine angular resolution, since we are interested in accurately measuring the strength of the signal and positions of sources. A natural way to improve both the sensitivity and angular resolution of a single telescope is to increase the collecting area.\n",
    "\n",
    "The following table shows the angular resolution as a function of aperture diameter $D$ and observing wavelength for a single dish telescope."
   ]
  },
  {
   "cell_type": "markdown",
   "metadata": {},
   "source": [
    "| Telescope Type | Angular Resolution <br> $\\Delta \\theta$ | Visible <br> $\\lambda$ = 500 nm | Infrared <br> $\\lambda$ = 10 $\\mu$m | Radio EHF <br> $\\lambda$ = 10 mm <br> 30 GHz | Radio UHF <br> $\\lambda$ = 1 m <br> 300 Mhz|\n",
    "|:---:|:---:|:---:|:---:|:---:|:---:|\n",
    "| Amateur | 0.8'' | 15 cm | 3 m | 3 km | 300 km |\n",
    "| Automated Follow-up | 0.25'' | 50 cm | 10 m | 10 km | 100 km |\n",
    "| Small Science | 0.12'' | 1 m | 21 m | 21 km | 2100 km |\n",
    "| Large Science | 0.015'' (15 mas) | 8 m | 168 m | 168 km | 16800 km |"
   ]
  },
  {
   "cell_type": "markdown",
   "metadata": {},
   "source": [
    "**Table 1.10.1:** *Angular resolution of a telescope as a function of the aperture diameter $D$ and observing wavelength.*"
   ]
  },
  {
   "cell_type": "markdown",
   "metadata": {},
   "source": [
    "As we can see from the table, a radio telescope requires a diameter which is many orders of magnitude larger than that of an optical telescope to achieve the same angular resolution. It is very reasonable to build a 15 cm optical telescope, in fact they can be easily bought at a store. But a radio telescope, observing at 300 MHz, which has the same resolution (0.8 arcseconds) needs to have an aperture of 300 km! Now, this would not only be prohibitively expensive, but the engineering is completely infeasible. Just for reference, the largest single dish telescopes are on the order of a few hundred meters in diameter (see Arecibo in Puerto Rico (305m aperture, decommissioned in 2020) and FAST in China (500m aperture)). The following example shows how the diameter of a telescope varies as a function of observing wavelength and desired angular resolution."
   ]
  },
  {
   "cell_type": "code",
   "execution_count": null,
   "metadata": {},
   "outputs": [],
   "source": [
    "def which_diameter(wavelength=1., angres=(15e-3 / 3600)):\n",
    "    \"\"\"\n",
    "    Compute the diameter of an aperture as a function of angular resolution\n",
    "    and observing wavelength.\n",
    "\n",
    "    Parameters\n",
    "    ----------\n",
    "    wavelength : float, optional\n",
    "        Wavelength of incident light, by default 1.\n",
    "    angres : float, optional\n",
    "        Angular resolution in degrees, by default 4.16e-6\n",
    "    \"\"\"\n",
    "\n",
    "    c = 299_792_458.  # spped of light, m / s\n",
    "    freq = c / wavelength / 1e6\n",
    "    D = 1.22 * wavelength / np.radians(angres)  # assuming a circular aperture\n",
    "\n",
    "    print(dedent(f\"\"\"\\\n",
    "        At a frequency of\n",
    "            {freq:.3f} MHz (λ = {wavelength:.3f} m)\n",
    "        the aperture diameter is \n",
    "            D = {D:.3f} m\n",
    "        to achieve an angular resolution of \n",
    "            {angres:g} degrees / {angres * 60:.6f} arcmin / {angres * 3600:.3f} arcsec\n",
    "        \"\"\"\n",
    "    ))\n",
    "\n",
    "\n",
    "w = interact(which_diameter, angres=((15e-3 / 3600), 10, 1e-5), wavelength=(0.5e-6, 1, 1e-7))"
   ]
  },
  {
   "cell_type": "markdown",
   "metadata": {},
   "source": [
    "### 1.10.2 Physical limitations of single dishes"
   ]
  },
  {
   "cell_type": "markdown",
   "metadata": {},
   "source": [
    "There are certain physical limitations to account for when designing single dish radio telescopes. As an example consider that, due to its limited field of view and the rotation of the earth, an antenna will have to track a source on the sky to maintain a constant sensitivity. In principle this can be achieved by mounting the antenna on a pedestal and mechanically steering it with a suitable drive motors. However, in order to maintain the integrity of the antenna, the control systems for these drive motors need to be incredibly precise. Clearly, this gets harder as the size of the instrument increases and will constitute a critical design point on the engineering side. This is true in the optical case as well, but it is easier to manage since the telescopes are physically much smaller. \n",
    "\n",
    "There is an upper limit on how large we can build steerable single dish radio telescopes. This is because, just like everything else, the metals that these telescopes are made out of can only withstand finite amounts of stress and strain before deforming. Perhaps one of the greatest reminders of this fact came in 1988 with the [<cite data-cite='2008ASPC..395..323C'>collapse of the 300 foot Green Bank Telescope</cite> &#10548;](http://adsabs.harvard.edu/abs/2008ASPC..395..323C) (see **Figure 1.10.4**). Clearly, large steerable telescopes run the risk of collapsing under their own weight. The 100 meter Green Bank Telescope (GBT) which replaced the 300 foot telescope is the largest steerable telescope in the world.\n",
    "\n",
    "Larger single dish apertures can still be reached though. Leaving the reflector fixed and allowing the receiver at the focus to move along the focal plane (or along the caustic) of the instrument, will mimic a slowly varying pointing in the sky (a so called steerable focus telescope). Indeed, this is how the Arecibo Observatory radio telescope (see **Figure 1.10.5**) operated. However, steerable focus telescopes come with limitations of their own (e.g. material cost and available space). In order to overcome these physical limitations and achieve a higher angular resolution we must use interferometric arrays to form a synthesized telescope."
   ]
  },
  {
   "cell_type": "code",
   "execution_count": null,
   "metadata": {},
   "outputs": [],
   "source": [
    "Image(filename='figures/gbt_300foot_telescope.jpg')"
   ]
  },
  {
   "cell_type": "markdown",
   "metadata": {},
   "source": [
    "**Figure 1.10.4a:** *300 foot Green Bank Telescope located in West Virgina, USA during initial operations in 1962. Credit: [NRAO&#10548;](http://adsabs.harvard.edu/abs/2008ASPC..395..323C)*"
   ]
  },
  {
   "cell_type": "code",
   "execution_count": null,
   "metadata": {},
   "outputs": [],
   "source": [
    "Image(filename='figures/gbt_300foot_collapse.jpg')"
   ]
  },
  {
   "cell_type": "markdown",
   "metadata": {},
   "source": [
    "**Figure 1.10.4b:** *November, 1988, a day after the collapse of the 300 foot GBT telescope due to structural defects. Credit: [NRAO&#10548;](http://adsabs.harvard.edu/abs/2008ASPC..395..323C)*"
   ]
  },
  {
   "cell_type": "code",
   "execution_count": null,
   "metadata": {},
   "outputs": [],
   "source": [
    "Image(filename='figures/arecibo_observatory.jpg')"
   ]
  },
  {
   "cell_type": "markdown",
   "metadata": {},
   "source": [
    "**Figure 1.10.5:** *The 300 m Arecibo Telescope lying in a natural cavity in Puerto Rico. The receiver is located in the white spherical structure held up by wires, and is repositioned to \"point\" the telescope. On December 1, 2020, a cable failure caused the receiver assembly to fall into the dish, destroying the telescope. Credit: [courtesy of the NAIC - Arecibo Observatory, a facility of the NSF&#10548;](http://www.naic.edu/public/about/photos/hires/ao001.jpg)*"
   ]
  },
  {
   "cell_type": "markdown",
   "metadata": {},
   "source": [
    "### 1.10.3 Creating a Synthesized Telescope using Interferometry"
   ]
  },
  {
   "cell_type": "markdown",
   "metadata": {},
   "source": [
    "Here we will attempt to develop some intuition for what an interferometric array is and how it relates to a single dish telescope. We will construct a cartoon example before getting into the mathematics. A simple single dish telescope is made up of a primary reflector dish, mounted to point in some direction in the sky, and a signal receiver at the focal point of the reflector (Figure 1.3.6a). The receiver is typically an antenna in the case of radio astronomy or a camera in optical astronomy. \n",
    "\n",
    "Basic optics tells us how convex lenses can be used to form real images of sources that are very far away. The image of a source that is infinitely far away will form at exactly the focal point of the lens, the location of which is completely determined by the shape of the lens (under the \"thin lens\" approximation). Sources of astrophysical interest can be approximated as being infinitely far away as long as they are at distances much further away than the focal point of the lens. This is immediately obvious from the equation of a thin convex lens:\n",
    "\n",
    "$$ \\frac{1}{o} + \\frac{1}{i} = \\frac{1}{f}, $$\n",
    "\n",
    "where $i, ~ o$ and $f$ are the image, object and focal distances respectively. Early astronomers exploited this useful property of lenses to build the first optical telescopes. Later on, concave mirrors replaced lenses since it is easier to control their physical and optical properties (e.g. curvature, surface quality etc.). Reflective paraboloids are the most efficient at focussing incoming plane waves (travelling on-axis) into a single locus (the focal point) and are therefore a good choice for the shape of a collector.\n",
    "\n",
    "In our simple model the sky only contains a single astrophysical source, which is detected by pointing the telescope towards its location in the sky."
   ]
  },
  {
   "cell_type": "code",
   "execution_count": null,
   "metadata": {},
   "outputs": [],
   "source": [
    "Image(filename='figures/cartoon_1.png')"
   ]
  },
  {
   "cell_type": "markdown",
   "metadata": {},
   "source": [
    "**Figure 1.10.6a:** *A simple dish telescope which reflects incoming plane waves (red dashed) along ray tracing paths (cyan) to a receiver at the focal point of the parabolic dish.*"
   ]
  },
  {
   "cell_type": "markdown",
   "metadata": {},
   "source": [
    "Ignoring real world effects like aperture blockage and reflector inefficiencies, plane waves are focused to a single point using a parabolic reflector (at that focus if a signal receiver). We can imagine the reflector is made up of many smaller reflectors, each with its own reflection path. In the limit of fully sampling the observing wavelength $\\lambda$, a single dish can be thought of as being made up of enough reflectors of diameter $\\lambda/2$ to fill the collecting area of the dish. In our simple example, we just break the dish into 8 reflectors (Figure 1.10.6b). This is in fact what is often done with very large telescopes when it is not feasible to build a single large mirror, such as in the W. M. Keck Observatory. At this point we have not altered the telescope, we are just thinking about the reflector as being made up of multiple smaller reflectors.\n",
    "\n",
    "<div class=advice>\n",
    "    \n",
    "<b>Note:</b> We can interpret a single dish telescope as a *continuous interferometer* by applying the Wiener-Khinchin theorem. See  Chapter 2 of <a href=\"http://adsabs.harvard.edu/abs/2007isra.book.....T\"><cite data-cite='2007isra.book.....T'>Interferometry and Synthesis in Radio Astronomy</cite> </a> for an in depth discussion.\n",
    "</div>"
   ]
  },
  {
   "cell_type": "code",
   "execution_count": null,
   "metadata": {},
   "outputs": [],
   "source": [
    "Image(filename='figures/cartoon_2.png')"
   ]
  },
  {
   "cell_type": "markdown",
   "metadata": {},
   "source": [
    "**Figure 1.10.6b:** *The dish reflector can be thought of as being made up of multiple smaller reflectors, each with its own light path to the focus.*"
   ]
  },
  {
   "cell_type": "markdown",
   "metadata": {},
   "source": [
    "Now, instead of capturing all the signal at a single point, there is no reason we can not capture the signal at the smaller, individual reflector focus points. If that signal is captured, we can digitally combine the signals at the main focus point later (Figure 1.10.6c). This is the first trick of interferometry. Radio waves can be sufficiently sampled in time to digitally record the signals (this becomes more difficult at higher frequencies, and not possible in the near-infrared and higher). The cost is that a receptor needs to be built for each sub-reflector, and additional hardware is required to combine the signals. The dish optically combines the light, we are simply doing the same thing digitally."
   ]
  },
  {
   "cell_type": "code",
   "execution_count": null,
   "metadata": {},
   "outputs": [],
   "source": [
    "Image(filename='figures/cartoon_3.png')"
   ]
  },
  {
   "cell_type": "markdown",
   "metadata": {},
   "source": [
    "**Figure 1.10.6c:** *A receptor at each sub-reflector captures the light signals. To recreate the combined signal at the main receptor the signals are digitally combined.*"
   ]
  },
  {
   "cell_type": "markdown",
   "metadata": {},
   "source": [
    "The next leap is that there is no reason the sub-reflectors need to be set in the shape of a dish since the combination of the signal at the main focus is performed done digitally. Since light travels at a constant speed any repositioning of a sub-reflector just requires a time delay correction. So we can move each element to the ground and construct a pointing system for each sub-reflector (Figure 1.10.6d). We now have an array of smaller single dish telescopes! By including the correct time delays on each signal, we can measure the same signal as the original, larger single dish telescope. This digital operation is called *beamforming* and is very important in interferometry."
   ]
  },
  {
   "cell_type": "code",
   "execution_count": null,
   "metadata": {},
   "outputs": [],
   "source": [
    "Image(filename='figures/cartoon_4.png')"
   ]
  },
  {
   "cell_type": "markdown",
   "metadata": {},
   "source": [
    "**Figure 1.10.6d:** *The sub-reflector elements of the original telescope are set on the ground with their own pointing systems. The original signal can be reconstructed digitally and by including the appropriate time delay for each telescope.*"
   ]
  },
  {
   "cell_type": "markdown",
   "metadata": {},
   "source": [
    "The beamforming operation recombines all the signals into a single signal, which can be thought of as a single pixel camera. However, we can do even better using a *correlator*. By correlating the signals we can compute *visibilities* which are then used to form an image (Figure 1.10.6e). This will be explained in more depth in the chapters that follow. For now it is important to know that interferometric arrays have an advantage over single dish telescopes viz. by combining signals from multiple smaller telescopes we can 'synthesize' a much larger telescope than can be constructed from a single dish. The correlator also allows for the creation of image over a beamformer at the cost of additional computing hardware.\n",
    "\n",
    "<span style=\"background-color:yellow\"> LB:RC: this last sentence is not clear, I am not sure what it is trying to say</span>"
   ]
  },
  {
   "cell_type": "code",
   "execution_count": null,
   "metadata": {},
   "outputs": [],
   "source": [
    "Image(filename='figures/cartoon_5.png')"
   ]
  },
  {
   "cell_type": "markdown",
   "metadata": {},
   "source": [
    "**Figure 1.10.6e:** *By using correlator hardware instead of a beamformer an image of the sky can be created.*"
   ]
  },
  {
   "cell_type": "markdown",
   "metadata": {},
   "source": [
    "The next trick of interferometry is that we do not necessarily need to sample the entire original dish (Figure 1.10.6f). We do lose sensitivity and, as will be discussed in later chapters, spatial frequency modes, but by using only a subset of elements and exploiting interferometry we can build synthesized telescopes that are many kilometres in diameter (e.g. MeerKAT) or as large as the Earth (e.g. VLBI networks). This is why radio interferometry can be used to produce the highest resolution telescopes in the world."
   ]
  },
  {
   "cell_type": "code",
   "execution_count": null,
   "metadata": {},
   "outputs": [],
   "source": [
    "Image(filename='figures/cartoon_6.png')"
   ]
  },
  {
   "cell_type": "markdown",
   "metadata": {},
   "source": [
    "**Figure 1.10.6f:** *Radio interferometric arrays do not need to sample every location of the original telescope, this allows for 'synthesized' telescopes with diameters comparable to the diameter of Earth.*"
   ]
  },
  {
   "cell_type": "markdown",
   "metadata": {},
   "source": [
    "This simple example hides much of the detail and we have yet to discuss the limitations of interferometric arrays and synthesized telescopes. But, for the moment, it is sufficient to think of interferometry as a method for overcoming the physical and engineering limitations inherent in building a single, massive telescope. This comes at the cost of additional digital hardware.\n",
    "\n",
    "In this introductory section we have highlighted why we need multi-element instruments. Since radio observations are done at a much longer wavelength (lower frequency) than those made in the visible, we would need much bigger radio telescopes to achieve the same angular resolution of optical telescopes. Employing an array of telescopes allows us to increase angular resolution and, by adding together the collecting areas of all the telescopes in the array, increase the sensitivity of the telescope. Because of the physical limitations involved in constructing very large single dish telescopes, it would be very difficult (and expensive) to achieve the same resolution and sensitivity with a single dish as can be achieved with an array of telescopes. However, as we will see, interferometry introduces a number of additional challenges.\n",
    "\n",
    "In the next section we will provide an overview of common interferometric arrays in use, the main science goals of the arrays, and future arrays in development."
   ]
  },
  {
   "cell_type": "markdown",
   "metadata": {},
   "source": [
    "<p class=conclusion>\n",
    "  <font size=4> <b>Important things to remember</b></font>\n",
    "  <br>\n",
    "  <br>\n",
    "\n",
    "&bull; A <b>paraboloid reflector</b> can be used to focus light from the far field to a single focal plane.<br>\n",
    "&bull; The reflector mirror is an easier optical system to build and maintain compared to a transmitting lens.<br>\n",
    "&bull; As we are dealing with EM waves, there is a *direct analogy between the properties of visible and radio telescopes*.<br>\n",
    "&bull; In principle, an interferometer can be built by <em>decomposing a single reflector instrument into smaller manageable pieces</em> and by <em>combining their signals in a specific manner</em>.<br>\n",
    "&bull; Conversely, a single reflector telescope can be interpreted as a <em>continuous</em> interferometer.\n",
    "</p>"
   ]
  },
  {
   "cell_type": "markdown",
   "metadata": {},
   "source": [
    "*** \n",
    "\n",
    "* Next: [1.11 Modern Interferometric Arrays](1_11_modern_interferometric_arrays.ipynb)"
   ]
  },
  {
   "cell_type": "markdown",
   "metadata": {},
   "source": [
    "<div class=warn><b>Future Additions:</b></div>\n",
    "\n",
    "* reframe as aperture synthesis. resolution is important, but if that was all we wanted then we could just build beamformers, the real advantage is the imaging."
   ]
  }
 ],
 "metadata": {
  "@webio": {
   "lastCommId": null,
   "lastKernelId": null
  },
  "kernelspec": {
   "display_name": "Python 3",
   "language": "python",
   "name": "python3"
  },
  "language_info": {
   "codemirror_mode": {
    "name": "ipython",
    "version": 3
   },
   "file_extension": ".py",
   "mimetype": "text/x-python",
   "name": "python",
   "nbconvert_exporter": "python",
   "pygments_lexer": "ipython3",
   "version": "3.6.5"
  }
 },
 "nbformat": 4,
 "nbformat_minor": 1
}
