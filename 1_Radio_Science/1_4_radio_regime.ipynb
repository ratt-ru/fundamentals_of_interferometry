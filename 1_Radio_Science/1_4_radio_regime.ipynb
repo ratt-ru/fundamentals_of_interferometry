{
 "cells": [
  {
   "cell_type": "markdown",
   "metadata": {
    "deletable": true,
    "editable": true
   },
   "source": [
    "***\n",
    "\n",
    "* [Outline](../0_Introduction/0_introduction.ipynb)\n",
    "* [Glossary](../0_Introduction/1_glossary.ipynb)\n",
    "* [1. Radio Science using Interferometric Arrays](../1_Radio_Science)\n",
    "    * Previous: [1.3 Radiation transport](../1_Radio_Science/1_3_radiative_transport.ipynb)\n",
    "    * Next: [1.5 Black body radiation](../1_Radio_Science/1_5_black_body_radiation.ipynb) \n",
    "\n",
    "***"
   ]
  },
  {
   "cell_type": "markdown",
   "metadata": {
    "deletable": true,
    "editable": true
   },
   "source": [
    "Section status: <span style=\"background-color:green\">&nbsp;&nbsp;&nbsp;&nbsp;</span>\n",
    "\n",
    "Import standard modules:"
   ]
  },
  {
   "cell_type": "code",
   "execution_count": null,
   "metadata": {
    "collapsed": false,
    "deletable": true,
    "editable": true
   },
   "outputs": [],
   "source": [
    "import numpy as np\n",
    "import matplotlib.pyplot as plt\n",
    "%matplotlib inline\n",
    "from IPython.display import HTML \n",
    "HTML('../style/course.css') #apply general CSS"
   ]
  },
  {
   "cell_type": "markdown",
   "metadata": {
    "deletable": true,
    "editable": true
   },
   "source": [
    "Import section specific modules:"
   ]
  },
  {
   "cell_type": "code",
   "execution_count": null,
   "metadata": {
    "collapsed": true,
    "deletable": true,
    "editable": true
   },
   "outputs": [],
   "source": [
    "from IPython.display import Image"
   ]
  },
  {
   "cell_type": "markdown",
   "metadata": {
    "collapsed": true,
    "deletable": true,
    "editable": true
   },
   "source": [
    "## 1.4 Radio Regime<a id='science:sec:radio_regime'></a>"
   ]
  },
  {
   "cell_type": "markdown",
   "metadata": {
    "deletable": true,
    "editable": true
   },
   "source": [
    "All of us are familiar with the night sky. In fact, when we think of astronomy, the first picture that comes to mind is that of the star-strewn sky (with a few planets thrown in). People looking at less light-polluted skies are also able to make out details such as the milky band of our own galaxy. \n",
    "\n",
    "We must remember that this view of the sky is a results of the natural limits of our vision - we can only perceive radiation in a narrow range in wavelength. We can't see beyond infra-red or ultraviolet frequencies. This is the reason the earliest advances in astronomy were in visible range - the branch of astronomy known as optical astronomy.\n",
    "\n",
    "However, over time we have been successful in sampling a large range of the electromagnetic spectrum. On one end is Gamma-ray astronomy, where individual photons have much larger energy than those in the visible range (and correspondingly much higher frequency) but far fewer numbers. On the other end is radio astronomy, where the photons are plentiful, but their individual energy is much smaller, with much smaller frequency than those in the visible range. \n",
    "\n",
    "The sky at radio frequencies is very different from that at the optical frequencies. Let us take the example of Cygnus A, which is the brightest extragalactic radio source. It is about ~ 230 Mpc(where 1 Mpc = $10^6$ pc = $3.08\\times10^{18}$ m, parsec, denoted by 'pc' is the distance unit of choice for astronomers) away from us. In optical, we see what may seem as a typical sky-field with stars and galaxies:"
   ]
  },
  {
   "cell_type": "code",
   "execution_count": null,
   "metadata": {
    "collapsed": false,
    "deletable": true,
    "editable": true
   },
   "outputs": [],
   "source": [
    "Image(filename='figures/cyg_A_optical.png', width=500)"
   ]
  },
  {
   "cell_type": "markdown",
   "metadata": {
    "deletable": true,
    "editable": true
   },
   "source": [
    "**Figure 1.4.1**: Sky in the direction of Cygnus A in optical frequencies. Credits: [Digitized Sky Survey &#10548;](https://archive.stsci.edu/dss/acknowledging.html)<a id='science:fig:cyg_a_comp'></a> <!--\\label{science:fig:cyg_a_comp}-->"
   ]
  },
  {
   "cell_type": "markdown",
   "metadata": {
    "collapsed": true,
    "deletable": true,
    "editable": true
   },
   "source": [
    "If we look at it at radio frequencies, however, we see much more detail:"
   ]
  },
  {
   "cell_type": "code",
   "execution_count": null,
   "metadata": {
    "collapsed": false,
    "deletable": true,
    "editable": true
   },
   "outputs": [],
   "source": [
    "Image(filename='figures/cyg_A_composite.png', width=500)"
   ]
  },
  {
   "cell_type": "markdown",
   "metadata": {
    "deletable": true,
    "editable": true
   },
   "source": [
    "**Figure 1.4.2**: Cygnus A, radio and optical view. <a id='science:fig:cyg_a_comp2'></a> <!--\\label{science:fig:cyg_a_comp2}-->"
   ]
  },
  {
   "cell_type": "markdown",
   "metadata": {
    "deletable": true,
    "editable": true
   },
   "source": [
    "The above image is an example of what are called composite images. These are images formed by combining two or more images, generally from different parts of the electromagnetic spectrum. In this example we have combined what we see in radio as well as optical frequencies. The object seen in the radio is Cygnus A, a radio galaxy (the closest such object to us). These are huge objects which are generated through the activity around a supermassive black hole at the centre of a galaxy. The lobes we see in the figure (a form of plasma) are generated by jets of ionised particles which spew out in opposite directions and collide with the inter-galactic medium (IGM), resulting in the emission of radiation at radio frequencies. This is why we do not see the lobes in other parts of the electromagnetic spectrum. These objects affect the process of cosmological structure formation at various scales and are therefore of great relevance to our understanding of the Cosmos. "
   ]
  },
  {
   "cell_type": "markdown",
   "metadata": {
    "deletable": true,
    "editable": true
   },
   "source": [
    "Another noteworthy example of radio emission is the M81 system. This is system of three galaxies which gravitationally bound to form a group. As seen in the image below, the extent of the interaction within the group is most evident at radio frequencies."
   ]
  },
  {
   "cell_type": "code",
   "execution_count": null,
   "metadata": {
    "collapsed": false,
    "deletable": true,
    "editable": true
   },
   "outputs": [],
   "source": [
    "Image(filename='figures/m81-nature.png', width=500)"
   ]
  },
  {
   "cell_type": "markdown",
   "metadata": {
    "deletable": true,
    "editable": true
   },
   "source": [
    "**Figure 1.4.3**: On the right we see the optical view of the M81 system and on the left the view in radio. <a id='science:fig:m81'></a> <!--\\label{science:fig:m81}-->"
   ]
  },
  {
   "cell_type": "markdown",
   "metadata": {
    "deletable": true,
    "editable": true
   },
   "source": [
    "Only in the radio image do the bridges between the three galaxies become clearly visible. They do not show up in optical because the gas contained within these bridges does not emit radiation at optical frequencies. The same thing happens for galactic rotation curves. Rotation curves plot the orbital velocity of *stuff* in a galaxy against the radial distance from its centre. They can be used to infer the amount of mass contained in the galaxy as a function of radius. Newtonian physics suggests that the velocity should fall off as $v \\propto r^{-1/2}$ as we move beyond the edge of the galaxy i.e. beyond most of the matter in the galaxy. Thus, if most of the matter in the galaxy consists of ordinary visible matter, the velocity should decrease beyond the optical disk. This is not what is observed in in practice indicating that not all the mass is enclosed within the visible disk. Indeed this was one of the first observations used to infer the presence of an unusual form of matter, called dark matter, which is not believed to interact with electromagnetic radiation. As a result dark matter is invisible (i.e. \"dark\") to us. Radio observations of the neutral hydrogen gas, which extends far beyond the visible extent of the galaxy, allow us to trace out rotation curves to much larger radii. Such data are useful when testing theories which attempt to explain the peculiar rotation curves typically observed in galaxies. The figure below (taken from [Wikipedia](https://en.wikipedia.org/wiki/Galaxy_rotation_curve)) illustrates the measurements through 'optical' (stars) and 'radio' (21 cm) measurements:"
   ]
  },
  {
   "cell_type": "code",
   "execution_count": null,
   "metadata": {
    "collapsed": false,
    "deletable": true,
    "editable": true
   },
   "outputs": [],
   "source": [
    "Image(filename='figures/M33_rotation_curve_HI.png', width=500)"
   ]
  },
  {
   "cell_type": "markdown",
   "metadata": {},
   "source": [
    "**Figure 1.4.4**: Example of a galactic rotation curve. <a id='science:fig:gal_rot_cur'></a> <!--\\label{science:fig:gal_rot_cur}-->"
   ]
  },
  {
   "cell_type": "markdown",
   "metadata": {
    "deletable": true,
    "editable": true
   },
   "source": [
    "These radio observations lend further support to the existence of 'dark matter', which we currently believe accounts for most of the matter in the Universe. "
   ]
  },
  {
   "cell_type": "markdown",
   "metadata": {
    "deletable": true,
    "editable": true
   },
   "source": [
    "Clearly the radio regime is of great importance as it creates a window into new and exciting aspects of astronomy. Let us now take a look at the part of the electromagnetic spectrum which is generally available to ground based telescopes (of which the overwhelming majority of radio telescopes are). The figure below (once again courtesy of [Wikipedia](https://en.wikipedia.org/wiki/Radio_telescope)) shows how opaque the Earth's atmosphere is at different frequencies. "
   ]
  },
  {
   "cell_type": "code",
   "execution_count": null,
   "metadata": {
    "collapsed": false,
    "deletable": true,
    "editable": true
   },
   "outputs": [],
   "source": [
    "Image(filename='figures/Atmospheric_electromagnetic_transmittance_or_opacity.jpg', width=500)"
   ]
  },
  {
   "cell_type": "markdown",
   "metadata": {},
   "source": [
    "**Figure 1.4.5**: Atmospheric opacity as a function of frequency <a id='science:fig:atm_opa'></a> <!--\\label{science:fig:atm_opa}-->"
   ]
  },
  {
   "cell_type": "markdown",
   "metadata": {
    "deletable": true,
    "editable": true
   },
   "source": [
    "So the 'radio window' extends from about $10$ MHz (about $30$ m) to $1$ THz (about $0.3$ mm), where it starts going into the infrared regime. At the high-frequency range, the absorption of radio waves by molecules like water vapour, CO$_{2}$ etc. makes the atmosphere opaque to radio observations. At the low frequency range, most of the radiation is reflected by the free electrons in the ionosphere.\n",
    "\n",
    "The available radio window is divided into many 'bands'. The nomenclature of these bands is to some extent historic and can initially be a cause of confusion. Some of the typical bands (taken from [here](https://science.nrao.edu/facilities/vla/docs/manuals/oss2013b/performance/bands)) are listed in the table below:\n",
    "\n",
    "| Band    |  Frequency (GHz) |\n",
    "|------------|-------------:|\n",
    "|P|0.23 - 0.47|\n",
    "| L          |  1 - 2| \n",
    "| S          |  2 - 4|\n",
    "|C           |  4 - 8|\n",
    "|X           |  8 - 12|\n",
    "|Ku          |12 - 18|\n",
    "|K           |19 - 26.5 |\n",
    "|Ka          |26.5 - 40.0          |\n",
    "|Q           |40.0 - 50.0    |"
   ]
  },
  {
   "cell_type": "markdown",
   "metadata": {
    "deletable": true,
    "editable": true
   },
   "source": [
    "**Table 1.4.1**: Typical Radio Astronomy Observation Bands. <a id='science:tab:bands'></a> <!--\\label{science:tab:bands}-->"
   ]
  },
  {
   "cell_type": "markdown",
   "metadata": {
    "deletable": true,
    "editable": true
   },
   "source": [
    "Thus when people refer to observations at 'L band' they mean observations at $1 - 2$ GHz etc. In the next sections we will discuss a few of the different physical mechanisms by which radiation in the radio regime is produced. We will start with the classic example of thermal radiation."
   ]
  },
  {
   "cell_type": "markdown",
   "metadata": {
    "collapsed": true,
    "deletable": true,
    "editable": true
   },
   "source": [
    "***\n",
    "\n",
    "* Next: [1.5 Black body radiation](../1_Radio_Science/1_5_black_body_radiation.ipynb) "
   ]
  }
 ],
 "metadata": {
  "kernelspec": {
   "display_name": "Python 2",
   "language": "python",
   "name": "python2"
  },
  "language_info": {
   "codemirror_mode": {
    "name": "ipython",
    "version": 2
   },
   "file_extension": ".py",
   "mimetype": "text/x-python",
   "name": "python",
   "nbconvert_exporter": "python",
   "pygments_lexer": "ipython2",
   "version": "2.7.6"
  }
 },
 "nbformat": 4,
 "nbformat_minor": 0
}
