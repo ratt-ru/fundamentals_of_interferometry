{
 "cells": [
  {
   "cell_type": "markdown",
   "metadata": {
    "deletable": true,
    "editable": true
   },
   "source": [
    "***\n",
    "\n",
    "* [Outline](../0_Introduction/0_introduction.ipynb)\n",
    "* [Glossary](../0_Introduction/1_glossary.ipynb)\n",
    "* [1. Radio Science using Interferometric Arrays](../1_Radio_Science)  \n",
    "    * Previous: [1.4 Radio regime](1_4_radio_regime.ipynb)\n",
    "    * Next: [1.6 Synchrotron emission](1_6_synchrotron_emission.ipynb)\n",
    "    \n",
    "***"
   ]
  },
  {
   "cell_type": "markdown",
   "metadata": {
    "deletable": true,
    "editable": true
   },
   "source": [
    "Section status: <span style=\"background-color:yellow\">&nbsp;&nbsp;&nbsp;&nbsp;</span>\n",
    "\n",
    "Import standard modules:"
   ]
  },
  {
   "cell_type": "code",
   "execution_count": null,
   "metadata": {
    "collapsed": false,
    "deletable": true,
    "editable": true
   },
   "outputs": [],
   "source": [
    "import numpy as np\n",
    "import matplotlib.pyplot as plt\n",
    "%matplotlib inline\n",
    "from IPython.display import HTML \n",
    "HTML('../style/course.css') #apply general CSS"
   ]
  },
  {
   "cell_type": "markdown",
   "metadata": {
    "deletable": true,
    "editable": true
   },
   "source": [
    "Import section specific modules:"
   ]
  },
  {
   "cell_type": "code",
   "execution_count": null,
   "metadata": {
    "collapsed": true,
    "deletable": true,
    "editable": true
   },
   "outputs": [],
   "source": [
    "import scipy.constants\n",
    "from IPython.display import Image"
   ]
  },
  {
   "cell_type": "code",
   "execution_count": null,
   "metadata": {
    "collapsed": false,
    "deletable": true,
    "editable": true
   },
   "outputs": [],
   "source": [
    "HTML('../style/code_toggle.html')"
   ]
  },
  {
   "cell_type": "markdown",
   "metadata": {
    "deletable": true,
    "editable": true
   },
   "source": [
    "## 1.5 Thermal Emission:"
   ]
  },
  {
   "cell_type": "markdown",
   "metadata": {
    "deletable": true,
    "editable": true
   },
   "source": [
    "There are two main types of continuum emission mechanisms we'll encounter in radio astronomy, thermal and non-thermal. As the names suggest, the thermal emission depends on the *temperature* of the black body while non-thermal emission depends on some other properties of the emitting body. In the next few sections, we'll have an overview of the emission mechanisms and some examples of each in radio astronomy. \n",
    "\n",
    "We'll begin the overview with an example of one of the mechanisms of thermal emission, blackbody emission. "
   ]
  },
  {
   "cell_type": "markdown",
   "metadata": {
    "deletable": true,
    "editable": true
   },
   "source": [
    "### 1.5.1 Blackbody Emission:<a id='science:sec:blackbody_emission'></a>"
   ]
  },
  {
   "cell_type": "markdown",
   "metadata": {
    "deletable": true,
    "editable": true
   },
   "source": [
    "Blackbody emission or thermal emission is an important form of radiation in astronomy. This is in the cases when Thermodynamic Equilibrium exists between radiation and matter - where radiation and matter interact enough to produce the following expression for the specific intensity:"
   ]
  },
  {
   "cell_type": "markdown",
   "metadata": {
    "collapsed": false,
    "deletable": true,
    "editable": true
   },
   "source": [
    "\\begin{equation}\n",
    "B_{\\nu}(T)=\\frac{2h\\nu^{3}}{c^{2}} \\frac{1}{e^{\\frac{h\\nu}{kT}}-1},\n",
    "\\end{equation}\n",
    "\n",
    "where $h$ is a constant, know as Planck's constant, and $c$ is the speed of light.  The spectrum produced by this relation is also known as the Planck Spectrum."
   ]
  },
  {
   "cell_type": "markdown",
   "metadata": {
    "deletable": true,
    "editable": true
   },
   "source": [
    "From the equation above, it can be inferred that, in a given frequency interval, the brightness depends only on the *Temperature* of the body. Also, one can see that a body at a higher temperature will produce higher brightness *at all frequencies* - which means that a body at a higher temperature has higher energy output via thermal emission than that of a body at a lower temperature. Yet another consequence is that the frequency at which maximum brightness is produced is directly proportional to the temperature - this is known as Wien's displacement law:"
   ]
  },
  {
   "cell_type": "markdown",
   "metadata": {
    "deletable": true,
    "editable": true
   },
   "source": [
    "$$\\nu_{max} = 58.789  T $$ \n",
    "\n",
    "where the frequency is measured in GHz and temperature is in Kelvin. See, for example, [Fig. 1.5.2 &#10549;](#science:fig:bb_distr), where the black body spectrum for various temperatures is plotted. The displacement of the frequency at which the peak occurs can be seen clearly."
   ]
  },
  {
   "cell_type": "markdown",
   "metadata": {
    "deletable": true,
    "editable": true
   },
   "source": [
    "At high frequencies, i.e. where $h\\nu \\gg kT$, this will reduce to Wien's approximation:"
   ]
  },
  {
   "cell_type": "markdown",
   "metadata": {
    "collapsed": true,
    "deletable": true,
    "editable": true
   },
   "source": [
    "$$B_{\\nu}(T)= \\frac{2h\\nu^{3}}{c^{2}} e^{\\frac{-h\\nu}{kT}}$$ "
   ]
  },
  {
   "cell_type": "markdown",
   "metadata": {
    "deletable": true,
    "editable": true
   },
   "source": [
    "n radio astronomy, a more typical situation is when the frequency of the radiation is so low that $h\\nu << kT$. In this case the Planck formula can be approximated by the Rayleigh-Jeans formula:"
   ]
  },
  {
   "cell_type": "markdown",
   "metadata": {
    "deletable": true,
    "editable": true
   },
   "source": [
    "$$B_{\\nu}(T)= \\frac{2\\nu^{2}}{c^{2}} kT $$"
   ]
  },
  {
   "cell_type": "code",
   "execution_count": null,
   "metadata": {
    "collapsed": false,
    "deletable": true,
    "editable": true
   },
   "outputs": [],
   "source": [
    "def B_v(T):\n",
    "    '''Function to calculate specific intensity/brightness distribution of black\n",
    "    body radiation at a given temperature. T is in Kelvins and frequency \n",
    "    is in Hertz'''\n",
    "    #Use Wien's displacement law to find the frequency range for given Temperature.\n",
    "    # nu_max(in GHz) = 58.789*T(in Kelvin)\n",
    "    nu_max = 58.79 * T\n",
    "    freq = np.arange(1,2000,1)\n",
    "    freq = freq * nu_max / 500.0 # Scale so that the the peak value occures at 1/4 the length of the array.\n",
    "    B = (2 * scipy.constants.h / scipy.constants.c ** 2.) * np.exp(-scipy.constants.h *\n",
    "            freq * 1e9 / (scipy.constants.k * T)) * (freq * 1e9) ** 3\n",
    "    #Change units for plotting to Jansky\n",
    "    # 1 Jansky = 10^-26 W/m^2 Hz\n",
    "    B = B * 1e26\n",
    "    return B"
   ]
  },
  {
   "cell_type": "code",
   "execution_count": null,
   "metadata": {
    "collapsed": false,
    "deletable": true,
    "editable": true
   },
   "outputs": [],
   "source": [
    "T = 2.275 #In Kelvin\n",
    "freq = np.arange(1, 2000, 1)\n",
    "freq = freq * 58.79 * T / 500.0\n",
    "B_CMB = B_v(T)\n",
    "fig, ax = plt.subplots()\n",
    "ax.plot(freq, B_CMB)\n",
    "ax.set_xlabel(\"Frequency (GHz)\")\n",
    "ax.set_ylabel(\"Specific Intensity ($Jy/sr$)\")\n",
    "ax.set_title(\"Blackbody Spectral Distribution\")"
   ]
  },
  {
   "cell_type": "markdown",
   "metadata": {
    "deletable": true,
    "editable": true
   },
   "source": [
    "**Figure 1.5.1**: *Blackbody radiation spectral distribution for Cosmic Microwave Background *. <a id='science:fig:bb_distr_cmb'></a>\n",
    "\n",
    "<span style=\"background-color:yellow\"> LB:IC: consider plotting the Wiens and Rayleigh-Jeans approximation on the same figure. Maybe a slider to vary the temperature?</span>"
   ]
  },
  {
   "cell_type": "markdown",
   "metadata": {
    "deletable": true,
    "editable": true
   },
   "source": [
    "The above distribution is for a temperature of 2.725 K, approximately the same as that of the Cosmic Microwave Background. If T (the temperature) in the above script is changed to $5700$ K, we would get a plot for the emission from the Sun. "
   ]
  },
  {
   "cell_type": "code",
   "execution_count": null,
   "metadata": {
    "collapsed": false,
    "deletable": true,
    "editable": true
   },
   "outputs": [],
   "source": [
    "T = 4 #in Kelvin\n",
    "freq = np.arange(1, 2000, 1)\n",
    "freq = freq * 58.79 * T / 500.0\n",
    "B_2 = B_v(T)\n",
    "B_3 = B_v(5)\n",
    "fig,ax = plt.subplots()\n",
    "ax.plot(freq,B_CMB, label='2.75 K')\n",
    "ax.plot(freq,B_2, label='4.0 K')\n",
    "ax.plot(freq,B_3, label='5.0 K')\n",
    "ax.legend()\n",
    "ax.set_xlabel(\"Frequency (GHz)\")\n",
    "ax.set_ylabel(\"Specific Intensity ($Jy/sr$)\")\n",
    "ax.set_title(\"Blackbody Spectral Distribution\")"
   ]
  },
  {
   "cell_type": "markdown",
   "metadata": {
    "deletable": true,
    "editable": true
   },
   "source": [
    "**Figure 1.5.2**: *Blackbody radiation spectral distribution*. <a id='science:fig:bb_distr'></a>"
   ]
  },
  {
   "cell_type": "markdown",
   "metadata": {
    "collapsed": true,
    "deletable": true,
    "editable": true
   },
   "source": [
    "As mentioned above, the brightness of the black body radiation depends only on the temperature of the body. This can be used to define a 'brightness temperature' for an object. Simply put, the brightness temperature for an object is given by: \n",
    "\n",
    "$$T_{b} = I_{\\nu} \\frac{c^{2}}{2k\\nu^{2}}$$ \n",
    "\n",
    "It should be noted that the actual specific intensity of an object is used here *even when it does not represent black body emission* i.e. the brightness temperature is simply the temperature which the object would have if the specific intensity or brightness was from black body emission. This allows characterization of any object in terms of a single parameter. This idea is used widely in radio astronomy and will be encountered in next chapters of this book."
   ]
  },
  {
   "cell_type": "markdown",
   "metadata": {
    "deletable": true,
    "editable": true
   },
   "source": [
    "### 1.5.2 Thermal Bremsstrahlung Emission :<a id='science:sec:bremsstrahlung_emission'></a>"
   ]
  },
  {
   "cell_type": "markdown",
   "metadata": {
    "deletable": true,
    "editable": true
   },
   "source": [
    "Thermal Bremsstrahlung radiation is another example of thermal radiation. The word Bremsstrahlung is German, meaning 'braking radiation'. This is because the origin of bremsstrahlung radiation is in accelerating (non-relativistic) particles in electric field. The 'thermal' designation refers to the fact that we are dealing with a collection of particles which are in local thermodynamic equilibrium. "
   ]
  },
  {
   "cell_type": "markdown",
   "metadata": {
    "deletable": true,
    "editable": true
   },
   "source": [
    "<p class=prerequisites>\n",
    "  <font size=4> <b>Prerequisites</b></font>\n",
    "  <br>\n",
    "  <br>\n",
    "&bull; <b>Larmor's formula  <br><br>\n",
    "</p>"
   ]
  },
  {
   "cell_type": "markdown",
   "metadata": {
    "deletable": true,
    "editable": true
   },
   "source": [
    "<span style=\"background-color:cyan\"> LB:RF: Do we derive Larmor's formula somewhere? If so there should be a link to it. Otherwise add link to online resource. </span>\n",
    "\n",
    "To understand the Bremsstrahlung emission from a collection of charged particles (which is what we see in any astronomical scenario), we need to know first the case of a single accelerating charged particle in an electric field. For such a particle the total power emitted is, according to Larmor's formula, given by:\n",
    "\n",
    "$$P= \\frac{2}{3}\\frac{q^{2}\\mathbf{a}^{2}}{c^{3}}$$ \n",
    "\n",
    "where $\\mathbf{a}$ is the acceleration of the charged particle, $q$ is its charge and $c$ is the speed of light."
   ]
  },
  {
   "cell_type": "code",
   "execution_count": null,
   "metadata": {
    "collapsed": false,
    "deletable": true,
    "editable": true
   },
   "outputs": [],
   "source": [
    "Image(filename='figures/bremsstrahlung_fig.png', width=300)"
   ]
  },
  {
   "cell_type": "markdown",
   "metadata": {},
   "source": [
    "**Figure 1.5.3**: *Illustration of symbols in Larmor's formula*.\n",
    "\n",
    "<span style=\"background-color:yellow\"> LB:IC: I had to come up with a caption here but I'm sure we can do better. Give a short description of what the figure is supposed to convey</span>"
   ]
  },
  {
   "cell_type": "markdown",
   "metadata": {
    "deletable": true,
    "editable": true
   },
   "source": [
    "The acceleration experienced by the charged particle can be estimated by remembering that \n",
    "\n",
    "$$\\mathbf{a} = \\frac{\\mathbf{F}}{m} = Qq\\frac{\\mathbf{r}}{mr^3}$$ \n",
    "\n",
    "where $Q$ is the charge of the particle generating the electric field (see figure above). From this, it is apparent that the best emitters of power using this mechanism are the least massive charged particles i.e. electrons. Since the protons have a much larger mass (by a factor of 1000) the total power they emit is negligible compared to the power emitted by electrons in the same electric field. As a result an ion-electron system contributes the most to the total power emitted by the plasma. Note, in particular, that the electrons are not captured by the ions in this system, which is the reason why this type of emission is sometimes called *free-free* emission.\n",
    "\n",
    "For radio frequencies, only the *perpendicular* (to the path) component of the acceleration is important. The emission of energy from this interaction happens in a pulse, corresponding to the time $t = b/v$, where $v$ is the velocity of the particle. The perpendicular acceleration is then:\n",
    "\n",
    "$$a_{\\perp} = \\frac{Qq\\,cos^{3}\\theta}{m_{e}b^2}$$\n",
    "\n",
    "For example, an electron, with electrostatic charge $e$, orbiting an ion with atomic number $Z$ will have a perpendicular acceleration given by\n",
    "\n",
    "$$a_{\\perp} = \\frac{Ze^{2}\\,cos^{3}\\theta}{m_{e}b^2}$$"
   ]
  },
  {
   "cell_type": "markdown",
   "metadata": {
    "deletable": true,
    "editable": true
   },
   "source": [
    "Substituting this into Larmor's formula gives a total power of\n",
    "\n",
    "$$P = \\frac{2}{3}\\frac{Z^2e^{6}cos^{6}\\theta}{m_{e}^2 \\,b^{4}c^{3}} $$\n",
    "\n",
    "This is the instantaneous power emitted by the electron through bremsstrahlung radiation. Since the power is emitted in a pulse of period $t \\sim b/v$, the emission has a characteristic frequency $\\omega_{c}\\sim  v/b$ below which the power spectrum is flat and above which it falls rapidly. The total energy emitted is given by:\n",
    "\n",
    "$$E = \\int P dt = \\frac{2}{3}\\frac{Z^2e^{6}}{m_{e}^2 \\,b^{4}c^{3}}\\int \\cos^{6}\\theta(t)\\,dt $$\n",
    "\n",
    "The integration over $\\theta$ can be carried out by noting that $v = \\frac{dx}{dt}$ where $x = b\\, \\tan\\theta$ giving:\n",
    "\n",
    "$$E = \\frac{\\pi}{4}\\frac{Z^2e^{6}}{m_{e}^2 \\,b^{3}c^{3}v} $$"
   ]
  },
  {
   "cell_type": "markdown",
   "metadata": {
    "deletable": true,
    "editable": true
   },
   "source": [
    "For a collection of particles, the combined spectrum of the bremsstrahlung emission would thus consist of individual contributions, essentially boiling down to integrations over the parameters $v$ and $b$ (assuming, of course, that the collection of particles is more or less homogeneous). A typical scenario is that of ionized clouds, say HII regions, since Hydrogen is one of the most abundant elements in the universe. HII regions are typically formed around young, bright stars.\n",
    "\n",
    "For such regions, we can use a Maxwell distribution function for the velocities\n",
    "\n",
    "$$f(v) = \\frac{4v^{2}}{\\sqrt \\pi} \\left(\\frac{m}{2kT}\\right)^{3/2}\\,\\exp\\left(-\\frac{mv^{2}}{2kT}\\right)$$\n",
    "\n",
    "Using these equations, it is possible to express the emissivity as\n",
    "\n",
    "$$\\epsilon_{\\nu} = \\frac{8}{3}\\frac{Z^{2}e^{6}}{c^{3}}\\frac{N_{i}N_{e}}{m^{2}}\\left(\\frac{2m}{\\pi \\,kT}\\right)^{1/2} \\ln\\left(\\frac{b_{2}}{b_{1}}\\right)$$"
   ]
  },
  {
   "cell_type": "code",
   "execution_count": null,
   "metadata": {
    "collapsed": false,
    "deletable": true,
    "editable": true
   },
   "outputs": [],
   "source": [
    "Image(filename='figures/orion_HII.png', width=300)"
   ]
  },
  {
   "cell_type": "markdown",
   "metadata": {},
   "source": [
    "**Figure 1.5.4**: *Radio Continuum Structure of the Orion Nebula* (taken from [Here](http://iopscience.iop.org/article/10.1086/318017/pdf))"
   ]
  },
  {
   "cell_type": "markdown",
   "metadata": {
    "collapsed": true,
    "deletable": true,
    "editable": true
   },
   "source": [
    "***\n",
    "\n",
    "* Next: [1.6 Synchrotron emission](1_6_synchrotron_emission.ipynb)"
   ]
  }
 ],
 "metadata": {
  "kernelspec": {
   "display_name": "Python 2",
   "language": "python",
   "name": "python2"
  },
  "language_info": {
   "codemirror_mode": {
    "name": "ipython",
    "version": 2
   },
   "file_extension": ".py",
   "mimetype": "text/x-python",
   "name": "python",
   "nbconvert_exporter": "python",
   "pygments_lexer": "ipython2",
   "version": "2.7.6"
  }
 },
 "nbformat": 4,
 "nbformat_minor": 0
}
