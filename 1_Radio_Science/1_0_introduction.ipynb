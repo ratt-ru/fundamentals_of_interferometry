{
 "cells": [
  {
   "cell_type": "markdown",
   "metadata": {},
   "source": [
    "***\n",
    "\n",
    "* [Outline](../0_Introduction/0_introduction.ipynb)\n",
    "* [Glossary](../0_Introduction/1_glossary.ipynb)\n",
    "* [1. Radio Science using Interferometric Arrays](#)  \n",
    "    * Next: [1.1 Basic remarks on astrophysics](1_1_a_brief_introduction_to_basic_astrophysics.ipynb)\n",
    "\n",
    "***"
   ]
  },
  {
   "cell_type": "markdown",
   "metadata": {},
   "source": [
    "Section status: <span style=\"background-color:green\">&nbsp;&nbsp;&nbsp;&nbsp;</span>\n",
    "\n",
    "Import standard modules:"
   ]
  },
  {
   "cell_type": "code",
   "execution_count": null,
   "metadata": {
    "scrolled": true
   },
   "outputs": [],
   "source": [
    "import numpy as np\n",
    "import matplotlib.pyplot as plt\n",
    "%matplotlib inline\n",
    "from IPython.display import HTML \n",
    "HTML('../style/course.css') #apply general CSS"
   ]
  },
  {
   "cell_type": "markdown",
   "metadata": {},
   "source": [
    "Import section specific modules:"
   ]
  },
  {
   "cell_type": "code",
   "execution_count": null,
   "metadata": {},
   "outputs": [],
   "source": [
    "pass"
   ]
  },
  {
   "cell_type": "code",
   "execution_count": null,
   "metadata": {},
   "outputs": [],
   "source": [
    "HTML('../style/code_toggle.html')"
   ]
  },
  {
   "cell_type": "markdown",
   "metadata": {},
   "source": [
    "# Chapter 1: Radio Science using Interferometric Arrays<a id='science:sec:intro'></a>"
   ]
  },
  {
   "cell_type": "markdown",
   "metadata": {},
   "source": [
    "Using interferometric arrays for astronomy is often talked about as 'black magic' that is more art than science. There are reference books which require a working knowledge of the subject to use, or there is a small section of introduction to radio astronomy books which gloss over the concepts of actually using interferometric arrays. But, the challenge of introducing radio interferometry has not been properly addressed. When synthesis imaging and interferometry is taught it is usually in a whirlwind one or two week workshop which a flood of new concepts are introduced by a range of lecturers. This leads to confusion and contradictions which leave the students, from our experience as students and lecturers, broadly with the idea that the whole process of producing science from interferometric arrays is a type of magic left to a privileged few to understand.\n",
    "\n",
    "**But, this should not be the case.**\n",
    "\n",
    "Granted, the topics can be difficult given that they are particular to the field, but they are based on universal mathematical and physical concepts. Like any topic, intuition comes with time. The best we can hope to do it to teach the fundamentals in a reasonable and throughout way. Hopefully, this will speed up the process of intuition building and diffuse confusion. The focus of this book is to start from a point of interest in the subject and get us to a place where we are comfortable enough in the fundamentals that we can move onto the unique complexities that arise in doing interferometry.\n",
    "\n",
    "Throughout this book, it is important to remember that interferometry is generally used to produce a 'synthesized' image of the sky by combining many individual telescopes into a single 'synthesized' telescope. This is different than what we typically think of as astronomy with telescopes because in the radio domain there are a number of engineering and physical limitations at work which require different solutions. But, a synthesised telescope is closely related to a typical telescope, though the details often obscure this.\n",
    "\n",
    "This work has been an effort of many people ranging from new masters students up to professors. Our prime goal is to make radio interferometry understandable in the easiest way possible. This is our attempt, and it is by no means perfect. We ask (beg) the reader, whether they are new to the topic or an expert, to please contribute to the improvement of this work in any way, that could be as simple as spelling and grammar corrections up to grand changes to entire structure and motivation of the book. We hope this can be a community-based effort.\n",
    "\n",
    "As for the layout of what is to follow we start with the theoretical concepts and build up to the practical. We start with the [mathematical concepts &#10142;](../2_Mathematical_Groundwork/2_0_introduction.ipynb)<!--2_Mathematical_Groundwork/2_0_introduction.ipynb--> used as the basis for interferometry and synthesis imaging. Then we move on to [positional astronomy &#10142;](../3_Positional_Astronomy/3_0_Introduction.ipynb)<!--3_Positional_Astronomy/3_0_Introduction.ipynb--> and common coordinate systems (which are relavent to all astronomy). Using the positional astronomy we introduce the concepts of the [visibility space &#10142;](../4_Visibility_Space/4_0_introduction.ipynb)<!--4_Visibility_Space/4_0_introduction.ipynb--> and baseline measurements. These measurements can then be transformed into an image using [imaging &#10142;](../5_Imaging)<!--5_Imaging/5_0_introduction.ipynb--> and [deconvolution &#10142;](../6_Deconvolution/6_0_introduction.ipynb)<!--6_Deconvolution/6_0_introduction.ipynb-->. From there we will move towards understanding real systems by discussing the radio telescope [observing system &#10142;](../7_Observing_Systems/7_0_introduction.ipynb)<!--7_Observing_Systems/7_0_introduction.ipynb--> and how it affects measurements during an observation. Any real instrument, in our case an array of radio telescopes, need to be properly calibrated to make a sensible measurement. Following the introduction<!--ing--> of the observing system, we will discuss how this [calibration &#10142;](../8_Calibration/8_0_Introduction.ipynb)<!--8_Calibration/8_0_Introduction.ipynb--> is done. Finally, the book will conclude with [practical details &#10142;](../9_Practical/9_1_visualisation-inspection.ipynb)<!--9_Practical/9_0_introduction.ipynb--> about doing interferometry with the standard software and tools used today."
   ]
  },
  {
   "cell_type": "markdown",
   "metadata": {},
   "source": [
    "Before we introduce the fundamental concepts of interferometry we will lay some ground work to motivate the topic. In this chapter we will provide a survey of the type of science done with interferometers, the advantage to using interferometric arrays, and the types of arrays currently in use.\n",
    "\n",
    "Before embarking on a more detailed study of radio interferometry, let's briefly examine what sort of science do we plan to study with radio interferometry. Sections 1.1 - 1.8 very briefly introduce astrophysics, radio astronomy, and the basic phenomena studied in radio astrophysics. After giving an overview of the field of astronomy, we introduce the relevant terminology and basics of electromagnetic radiation and radiation transport. The next set of sections deals with examples of emission mechanisms which produce electromagnetic radiation at radio frequencies. These are not exhaustive, but they are meant to give a flavour of different types of emission mechanisms: thermal and non-thermal emission, continuum vs. spectral line emission. A complete survey of astronomical radio science is obviously out of the scope of this book; however references for literature which is specifically devoted to radio science are given in the glossary and the further reading section.\n",
    "\n",
    "The latter sections of this first chapter are dedicated to motivating the usage of radio interferometers, introducing examples from the early development of interferometers and then taking a first look at modern radio interferometers. After this introduction, the reader is *hopefully* curious enough to dive into the depths of the concepts of radio interferometry."
   ]
  },
  {
   "cell_type": "markdown",
   "metadata": {},
   "source": [
    "#### Chapter Outline"
   ]
  },
  {
   "cell_type": "markdown",
   "metadata": {},
   "source": [
    "1.  [Basic remarks on astrophysics](../1_Radio_Science/1_1_a_brief_introduction_to_basic_astrophysics.ipynb)\n",
    "2.  [Electromagnetic radiation and astronomical quantities](../1_Radio_Science/1_2_electromagnetic_radiation_and_astronomical_quantities.ipynb)\n",
    "3.  [Radiative transport](../1_Radio_Science/1_3_radiative_transport.ipynb)\n",
    "4.  [Radio regime](../1_Radio_Science/1_4_radio_regime.ipynb)\n",
    "5.  [Black body radiation](../1_Radio_Science/1_5_black_body_radiation.ipynb)\n",
    "6.  [Synchrotron emission](../1_Radio_Science/1_6_synchrotron_emission.ipynb)\n",
    "7.  [Line emission](../1_Radio_Science/1_7_line_emission.ipynb)\n",
    "8.  [Astronomical radio sources](../1_Radio_Science/1_8_astronomical_radio_sources.ipynb)\n",
    "9.  [A brief introduction to interferometry](../1_Radio_Science/1_9_a_brief_introduction_to_interferometry.ipynb)\n",
    "10. [Limits of single dishes](../1_Radio_Science/1_10_limits_of_single_dishes.ipynb)\n",
    "11. [Modern interferometric arrays](../1_Radio_Science/1_11_modern_interferometric_arrays.ipynb)\n",
    "12. [Further reading and references](../1_Radio_Science/1_x_further_reading_and_references.ipynb)"
   ]
  },
  {
   "cell_type": "markdown",
   "metadata": {},
   "source": [
    "### Chapter Editors\n",
    "* Alexander Akoto-Danso \n",
    "* Ermias Abebe Kassaye\n",
    "* Tariq Blecher\n",
    "* Griffin Foster\n",
    "* Kshitij Thorat\n",
    "* Landman Bester\n",
    "* Kelachukwu Iheanetu\n",
    "\n",
    "#### Chapter Contributors\n",
    "\n",
    "* Griffin Foster (**1.0**, **1.10**, **1.11**)\n",
    "* Julien Girard (**1.10**)\n",
    "* Gyula Jozsa (**1.1**, **1.2**, **1.3**, **1.4**, **1.5**, **1.6**, **1.7**, **1.8**)\n",
    "* Oleg Smirnov (**1.9**)\n",
    "* Kshitij Thorat (**1.1**, **1.2**, **1.3**, **1.4**, **1.5**, **1.6**, **1.7**, **1.8**)\n",
    "\n",
    "#### Format status:\n",
    "\n",
    "* <span style=\"background-color:yellow\">&nbsp;&nbsp;&nbsp;&nbsp;</span> : LF: Date\n",
    "* <span style=\"background-color:green\">&nbsp;&nbsp;&nbsp;&nbsp;</span> : NC: Date\n",
    "* <span style=\"background-color:yellow\">&nbsp;&nbsp;&nbsp;&nbsp;</span> : RF: Date\n",
    "* <span style=\"background-color:green\">&nbsp;&nbsp;&nbsp;&nbsp;</span> : HF: Date\n",
    "* <span style=\"background-color:yellow\">&nbsp;&nbsp;&nbsp;&nbsp;</span> : GM: Date\n",
    "* <span style=\"background-color:yellow\">&nbsp;&nbsp;&nbsp;&nbsp;</span> : CC: Date\n",
    "* <span style=\"background-color:green\">&nbsp;&nbsp;&nbsp;&nbsp;</span> : CL: Date\n",
    "* <span style=\"background-color:green\">&nbsp;&nbsp;&nbsp;&nbsp;</span> : ST: Date\n",
    "* <span style=\"background-color:green\">&nbsp;&nbsp;&nbsp;&nbsp;</span> : FN: Date\n",
    "* <span style=\"background-color:red\">&nbsp;&nbsp;&nbsp;&nbsp;</span> : TC: Date\n",
    "* <span style=\"background-color:yellow\">&nbsp;&nbsp;&nbsp;&nbsp;</span> : XX: Date"
   ]
  },
  {
   "cell_type": "markdown",
   "metadata": {},
   "source": [
    "***\n",
    "\n",
    "* Next: [1.1 Basic remarks on astrophysics](../1_Radio_Science/1_1_a_brief_introduction_to_basic_astrophysics.ipynb)"
   ]
  },
  {
   "cell_type": "markdown",
   "metadata": {},
   "source": [
    "<div class=warn><b>Future Additions:</b></div>\n",
    "\n",
    "* start book with an overview of what happens in aperture synthesis, start with the measurement equation. end the book, the final chapter on returning to this first section but now with all the foundations provided in between."
   ]
  }
 ],
 "metadata": {
  "@webio": {
   "lastCommId": null,
   "lastKernelId": null
  },
  "kernelspec": {
   "display_name": "Python 3",
   "language": "python",
   "name": "python3"
  },
  "language_info": {
   "codemirror_mode": {
    "name": "ipython",
    "version": 3
   },
   "file_extension": ".py",
   "mimetype": "text/x-python",
   "name": "python",
   "nbconvert_exporter": "python",
   "pygments_lexer": "ipython3",
   "version": "3.6.5"
  }
 },
 "nbformat": 4,
 "nbformat_minor": 1
}
