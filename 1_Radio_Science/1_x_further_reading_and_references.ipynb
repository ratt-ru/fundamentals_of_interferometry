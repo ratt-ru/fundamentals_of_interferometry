{
 "cells": [
  {
   "cell_type": "markdown",
   "metadata": {
    "collapsed": true
   },
   "source": [
    "***\n",
    "\n",
    "* [Outline](../0_Introduction/0_introduction.ipynb)\n",
    "* [Glossary](../0_Introduction/1_glossary.ipynb)\n",
    "* [1. Radio Science using Interferometric Arrays](1_0_introduction.ipynb)  \n",
    "    * Previous: [1.11 Modern interferometric arrays](1_11_modern_interferometric_arrays.ipynb)\n",
    "    * Next: [Chapter 2: Mathematical Groundwork](../2_Mathematical_Groundwork/2_0_introduction.ipynb)\n",
    "***"
   ]
  },
  {
   "cell_type": "markdown",
   "metadata": {},
   "source": [
    "Section status: <span style=\"background-color:green\">&nbsp;&nbsp;&nbsp;&nbsp;</span>"
   ]
  },
  {
   "cell_type": "markdown",
   "metadata": {},
   "source": [
    "## 1.12 Further Reading and References <a id='science:sec:refs'></a>"
   ]
  },
  {
   "cell_type": "markdown",
   "metadata": {},
   "source": [
    "The standard reference books for radio interferometry are [<cite data-cite='1999ASPC..180.....T'>Synthesis Imaging in Radio Astronomy II</cite> &#10548;](http://adsabs.harvard.edu/abs/1999ASPC..180.....T) (colloquially known as 'the white book') and [<cite data-cite='2007isra.book.....T'>Interferometry and Synthesis in Radio Astronomy</cite> &#10548;](http://adsabs.harvard.edu/abs/2007isra.book.....T).\n",
    "\n",
    "For technical aspects of this chapter, especially emission mechanisms, see [<cite data-cite='1981PEPI...25..432L'>Radiative Processes in Astrophysics</cite> &#10548;](http://adsabs.harvard.edu/abs/1985rpa..book.....R) and [<cite data-cite='2012tra..book.....W'>Tools of Radio Astronomy</cite> &#10548;](http://adsabs.harvard.edu/abs/2012tra..book.....W).\n",
    "\n",
    "For an excellent account of the astronomical processes taking place in Cygnus A, see [<cite data-cite='1996A&ARv...7....1C'>Cygnus A</cite> &#10548;](https://ned.ipac.caltech.edu/level5/Carilli/Car_contents.html)."
   ]
  },
  {
   "cell_type": "markdown",
   "metadata": {},
   "source": [
    "***\n",
    "\n",
    "Next: [Chapter 2: Mathematical Groundwork](../2_Mathematical_Groundwork/2_0_introduction.ipynb)"
   ]
  }
 ],
 "metadata": {
  "@webio": {
   "lastCommId": null,
   "lastKernelId": null
  },
  "kernelspec": {
   "display_name": "Python 3",
   "language": "python",
   "name": "python3"
  },
  "language_info": {
   "codemirror_mode": {
    "name": "ipython",
    "version": 3
   },
   "file_extension": ".py",
   "mimetype": "text/x-python",
   "name": "python",
   "nbconvert_exporter": "python",
   "pygments_lexer": "ipython3",
   "version": "3.6.5"
  }
 },
 "nbformat": 4,
 "nbformat_minor": 1
}
