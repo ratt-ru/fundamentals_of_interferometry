{
 "cells": [
  {
   "cell_type": "markdown",
   "metadata": {},
   "source": [
    "***\n",
    "\n",
    "* [Outline](../0_Introduction/0_introduction.ipynb)\n",
    "* [Glossary](../0_Introduction/1_glossary.ipynb)\n",
    "* [1. Radio Science](1_0_introduction.ipynb)  \n",
    "    * Previous: [1.2 Electromagnetic radiation and astronomical quantities](1_2_electromagnetic_radiation_and_astronomical_quantities.ipynb)\n",
    "    * Next: [1.4 Radio regime](1_4_radio_regime.ipynb)\n",
    "\n",
    "***"
   ]
  },
  {
   "cell_type": "markdown",
   "metadata": {},
   "source": [
    "Section status: <span style=\"background-color:orange\">&nbsp;&nbsp;&nbsp;&nbsp;</span>\n",
    "\n",
    "Import standard modules:"
   ]
  },
  {
   "cell_type": "code",
   "execution_count": null,
   "metadata": {
    "collapsed": false
   },
   "outputs": [],
   "source": [
    "import numpy as np\n",
    "import matplotlib.pyplot as plt\n",
    "%matplotlib inline\n",
    "from IPython.display import HTML \n",
    "HTML('../style/course.css') #apply general CSS"
   ]
  },
  {
   "cell_type": "markdown",
   "metadata": {},
   "source": [
    "Import section specific modules:"
   ]
  },
  {
   "cell_type": "code",
   "execution_count": null,
   "metadata": {
    "collapsed": true
   },
   "outputs": [],
   "source": [
    "from IPython.display import Image"
   ]
  },
  {
   "cell_type": "markdown",
   "metadata": {
    "collapsed": false
   },
   "source": [
    "## 1.3. Radiative transport<a id='science:sec:radiative_transport'></a>"
   ]
  },
  {
   "cell_type": "markdown",
   "metadata": {},
   "source": [
    "In this section we briefly review how electromagnetic radiation propagates through non-empty space in which radiation may be absorbed or generated. To keep things simple we will refrain from going too far into the details. However the concept of radiative transport plays a fundamental role in interferometry and therefore cannot be omitted. "
   ]
  },
  {
   "cell_type": "markdown",
   "metadata": {},
   "source": [
    "In the previous section we discussed the fact that specific intensity is independent of the distance to a source as long as no emission is generated and nothing is absorbed. In reality a ray bundle may gain or lose intensity on its way to the observer, along a path, $x$, say. The *loss* of intensity is generally proportional to the intensity itself (imagine an absorption probability for radiation). We will adopt a linear model and assume that, as the ray bundle propagates through a medium along an infinitesimal path length $dx$, $I_\\nu$ loses a fraction \n",
    "\n",
    "$$ -\\kappa_\\nu(x)\\,I_\\nu \\,dx $$\n",
    "\n",
    "Here $\\kappa_\\nu(x)$ is called the linear absorption coefficient. Furthermore, intensity will be *generated* independently of the incoming radiation in such a way that the intensity will increase by a constant amount of $\\varepsilon_\\nu \\,dx$ along the infinitesimal path length $dx$. Here $\\varepsilon_\\nu $ is called the emission coefficient. Note that, in general, $\\kappa_\\nu$ and $\\varepsilon_\\nu$ may be functions of $I$. In what follows we will neglect this effect and assume that they only depend on $s$. From the above, we can write down a simplified version of the equation describing radiative transfer i.e."
   ]
  },
  {
   "cell_type": "markdown",
   "metadata": {},
   "source": [
    "<a id='science:eq:03_001'></a><!--\\label{science:eq:03_001}-->$$\n",
    "\\begin{align}\n",
    "    dI_\\nu \\,&= -\\kappa_\\nu\\,I_\\nu\\,dx+\\varepsilon_\\nu\\,dx\\\\\n",
    "    &\\Leftrightarrow\\\\\n",
    "    \\frac{dI_\\nu}{dx} \\,&= -\\kappa_\\nu\\,I_\\nu+\\varepsilon_\\nu \\\\\n",
    "\\end{align}\n",
    "$$\n",
    "\n",
    "<span style=\"background-color:red\">HLB:IC: Pretty much all the calculations below this comment seems unnecessarily convoluted and needs to be revised. In particular many of the integrations seem unnecessary, work with the differentials where possible. </span>"
   ]
  },
  {
   "cell_type": "markdown",
   "metadata": {},
   "source": [
    "The equation of radiative transfer has simple solutions for $\\kappa_\\nu\\,=\\,0$ or $\\varepsilon_\\nu\\,=\\,0$:"
   ]
  },
  {
   "cell_type": "markdown",
   "metadata": {},
   "source": [
    "<a id='science:eq:03_002'></a><!--\\label{science:eq:03_002}-->$$\n",
    "\\begin{align}\n",
    "     \\kappa_\\nu\\,&=\\,0 &\\Rightarrow\\quad& I_\\nu(x)\\,=\\,I_\\nu(x_0)+\\int_{x_0}^{x}\\varepsilon_\\nu(t)\\,dt\\\\\n",
    "     \\varepsilon_\\nu\\,&=\\,0 &\\Rightarrow\\quad& I_\\nu(x)\\,=\\,I_\\nu(x_0)\\,e^{-\\int_{x_0}^{x}\\kappa_\\nu(t)\\,dt} \\\\\n",
    "\\end{align}\n",
    "$$"
   ]
  },
  {
   "cell_type": "markdown",
   "metadata": {},
   "source": [
    "To proceed to the *general solution* of the equation of radiative transfer, one defines the optical depth, $\\tau_\\nu$, via"
   ]
  },
  {
   "cell_type": "markdown",
   "metadata": {},
   "source": [
    "<a id='science:eq:03_003'></a><!--\\label{science:eq:03_003}-->\n",
    "$$ d\\tau_\\nu \\underset{def}{=} -\\kappa_\\nu dx \\quad \\Rightarrow \\quad \\tau_\\nu = \\int_x^{x_0}\\kappa_\\nu(t) dt $$"
   ]
  },
  {
   "cell_type": "markdown",
   "metadata": {},
   "source": [
    "Here the observer is at the position $x_0$ and $\\tau_\\nu\\,=\\,0$ at the position of the observer. With that, one basically introduces a more relevant quantity than the actual path length as a parameter. Substituting via the chain rule"
   ]
  },
  {
   "cell_type": "markdown",
   "metadata": {},
   "source": [
    "<a id='science:eq:03_004'></a><!--\\label{science:eq:03_004}-->$$\n",
    "\\begin{align}\n",
    "    \\frac{dI_\\nu}{dx} \\,&= \\,\\frac{dI_\\nu}{d\\tau_\\nu}\\frac{d\\tau_\\nu}{dx}\\\\\n",
    "    &=\\, -\\kappa_\\nu\\frac{dI_\\nu}{d\\tau_\\nu}\\\\\n",
    "    &=\\, -\\kappa_\\nu\\,I_\\nu+\\varepsilon_\\nu \\\\\n",
    "\\end{align}\n",
    "$$"
   ]
  },
  {
   "cell_type": "markdown",
   "metadata": {
    "collapsed": true
   },
   "source": [
    "The figure below shows the radiative transport process in a pictorial form. "
   ]
  },
  {
   "cell_type": "code",
   "execution_count": null,
   "metadata": {
    "collapsed": false
   },
   "outputs": [],
   "source": [
    "Image(filename='figures/radiative_transport.png', width=800)"
   ]
  },
  {
   "cell_type": "markdown",
   "metadata": {},
   "source": [
    "By defining the source function or efficiency, $s_\\nu$, (note that, unfortunately, the same symbol $S_\\nu$ as for the flux density is often used for $s_\\nu$) as"
   ]
  },
  {
   "cell_type": "markdown",
   "metadata": {},
   "source": [
    "<a id='science:eq:03_005'></a><!--\\label{science:eq:03_005}-->$$\n",
    "\\begin{align}\n",
    "    s_\\nu\\,&\\underset{def}{=}\\,\\frac{\\varepsilon_\\nu}{\\kappa_\\nu}\\\\\n",
    "\\end{align}\n",
    "$$"
   ]
  },
  {
   "cell_type": "markdown",
   "metadata": {},
   "source": [
    "we get"
   ]
  },
  {
   "cell_type": "markdown",
   "metadata": {},
   "source": [
    "<a id='science:eq:03_005'></a><!--\\label{science:eq:03_005}-->$$\n",
    "\\begin{align}\n",
    "    \\frac{dI_\\nu}{d\\tau_\\nu}\\,=\\,I_\\nu-s_\\nu \n",
    "\\end{align}\n",
    "$$"
   ]
  },
  {
   "cell_type": "markdown",
   "metadata": {},
   "source": [
    "which can be solved via multiplication with $e^{-\\tau_\\nu}$ and integration (i.e. using an integrating factor)"
   ]
  },
  {
   "cell_type": "markdown",
   "metadata": {},
   "source": [
    "<a id='science:eq:03_006'></a><!--\\label{science:eq:03_006}-->\n",
    "\\begin{align}\n",
    "    \\frac{d\\left(I_\\nu \\,e^{-\\tau_\\nu}\\right)}{d\\tau_\\nu}\\,&=\\,\\frac{dI_\\nu}{d\\tau_\\nu}\\,e^{-\\tau_\\nu}-I_\\nu\\,e^{-\\tau_\\nu}\\\\\n",
    "    &=\\,-s_\\nu\\,e^{-\\tau_\\nu}\\\\\n",
    "    &\\Rightarrow\\\\\n",
    "    \\int_0^{\\tau_\\nu(x)} \\frac{d\\left(I_\\nu \\,e^{-\\tau_\\nu}\\right)}{d\\tau_\\nu}\\,d\\tau_\\nu\\,&=\\,I_\\nu(\\tau_\\nu(x))\\,e^{-\\tau_\\nu(x)}-I_\\nu(0)e^{0}\\\\\n",
    "    &=\\,I_\\nu(\\tau_\\nu(x))\\,e^{-\\tau_\\nu(x)}-I_\\nu(0)\\\\\n",
    "    \\\\&=\\,-\\int_0^{\\tau_\\nu(x)}s_\\nu\\,e^{-\\tau_\\nu}\\,d\\tau_\\nu\\\\\n",
    "    &\\Leftrightarrow\\\\\n",
    "    I_\\nu(0)\\,&=\\, I_\\nu(x_0)\\\\\n",
    "    &=\\, I_\\nu\\left(\\tau_\\nu(x)\\right)\\,e^{-\\tau_\\nu(x)}+\\int_0^{\\tau_\\nu(x)}s_\\nu\\,e^{-\\tau_\\nu}\\,d\\tau_\\nu\n",
    "\\end{align}"
   ]
  },
  {
   "cell_type": "markdown",
   "metadata": {},
   "source": [
    "Kirchhoff's law of thermal radiation (see [here](https://en.wikipedia.org/wiki/Kirchhoff's_law_of_thermal_radiation) for example) implies that, in a local thermodynamical equilibrium (LTE), at temperature $T$, the emissivity equals the absorbed radiation. Thus we have that"
   ]
  },
  {
   "cell_type": "markdown",
   "metadata": {},
   "source": [
    "<a id='science:eq:03_007'></a><!--\\label{science:eq:03_007}-->$$\n",
    "\\begin{align}\n",
    "    \\varepsilon_\\nu\\,&\\underset{LTE}{=}\\,\\kappa_\\nu\\,B_\\nu(T)\\\\\n",
    "    s_\\nu\\,&=\\,B_\\nu(T)\n",
    "\\end{align}\n",
    "$$"
   ]
  },
  {
   "cell_type": "markdown",
   "metadata": {},
   "source": [
    "where $B_\\nu(T)$ is the radiation emitted, at frequency $\\nu$, by a black body of temperature $T$ ([see section 1.5.1 &#10142;](1_5_black_body_radiation.ipynb#science:sec:blackbody_emission) <!--\\ref{science:sec:blackbody_emission}--> ). "
   ]
  },
  {
   "cell_type": "markdown",
   "metadata": {},
   "source": [
    "Thus, starting at any position $x$, we have that"
   ]
  },
  {
   "cell_type": "markdown",
   "metadata": {},
   "source": [
    "<a id='science:eq:03_008'></a><!--\\label{science:eq:03_008}-->$$\n",
    "\\begin{align}\n",
    "    I_\\nu(0)\\,&=\\, I_\\nu(x_0)\\\\\n",
    "    &=I_\\nu\\left(\\tau_\\nu(x)\\right)\\,e^{-\\tau_\\nu(x)}+\\int_0^{\\tau(x)}s_\\nu\\,e^{-\\tau_\\nu}\\,d\\tau_\\nu\\\\\n",
    "    &=I_\\nu\\left(\\tau_\\nu(x)\\right)\\,e^{-\\tau_\\nu(x)}+\\int_0^{\\tau(x)}B_\\nu(T)\\,e^{-\\tau_\\nu}\\,d\\tau_\\nu\n",
    "\\end{align}\n",
    "$$"
   ]
  },
  {
   "cell_type": "markdown",
   "metadata": {},
   "source": [
    "If the temperature $T$ is constant, $B_\\nu(T)$ is constant, and"
   ]
  },
  {
   "cell_type": "markdown",
   "metadata": {},
   "source": [
    "<a id='science:eq:03_009'></a><!--\\label{science:eq:03_009}-->$$\n",
    "\\begin{align}\n",
    "    I_\\nu(0)\\,&=\\, I_\\nu(x_0)\\\\\n",
    "    &=I_\\nu\\left(\\tau_\\nu(x)\\right)\\,B_\\nu(T)\\,e^{-\\tau_\\nu(x)}+\\int_0^{\\tau(x)}B_\\nu(T)\\,e^{-\\tau_\\nu}\\,d\\tau_\\nu\\\\\n",
    "    &=I_\\nu\\left(\\tau_\\nu(x)\\right)\\,B_\\nu(T)\\,e^{-\\tau_\\nu(x)}+B_\\nu(T)\\left(1-e^{-\\tau_\\nu(x_0)}\\right)\n",
    "\\end{align}\n",
    "$$"
   ]
  },
  {
   "cell_type": "markdown",
   "metadata": {},
   "source": [
    "It is easy to see that for an opaque source"
   ]
  },
  {
   "cell_type": "markdown",
   "metadata": {},
   "source": [
    "<a id='science:eq:03_009'></a><!--\\label{science:eq:03_009}-->$$\n",
    "\\begin{align}\n",
    " \\tau(x) \\,&=\\, \\infty\\\\\n",
    " &\\Rightarrow\\\\\n",
    " I_\\nu(x_0) \\,&=\\, B_\\nu(T)\n",
    " \\end{align}\n",
    " $$"
   ]
  },
  {
   "cell_type": "markdown",
   "metadata": {},
   "source": [
    "Generally, if the source function is constant (substitute $B_\\nu$ for $S_\\nu$ for LTE)"
   ]
  },
  {
   "cell_type": "markdown",
   "metadata": {},
   "source": [
    "<a id='science:eq:03_010'></a><!--\\label{science:eq:03_010}-->$$\n",
    "\\begin{align}\n",
    "    s_\\nu \\,&=\\, s_\\nu^0 = const.\\\\\n",
    "    &\\Rightarrow\\\\\n",
    "    I_\\nu(0)\\,&=\\, I_\\nu(x_0)\\\\\n",
    "    &=I_\\nu\\left(\\tau_\\nu(x)\\right)\\,s_\\nu\\,e^{-\\tau_\\nu(x)}+\\int_0^{\\tau(x)}s_\\nu\\,e^{-\\tau_\\nu}\\,d\\tau_\\nu\\\\\n",
    "    &=I_\\nu\\left(\\tau_\\nu(x)\\right)\\,s_\\nu\\,e^{-\\tau_\\nu(x)}+s_\\nu\\left(1-e^{-\\tau_\\nu(x_0)}\\right) \n",
    "\\end{align}\n",
    "$$"
   ]
  },
  {
   "cell_type": "markdown",
   "metadata": {},
   "source": [
    "From this it follows that, when all emission comes from an optically thin slab of material, we have"
   ]
  },
  {
   "cell_type": "markdown",
   "metadata": {},
   "source": [
    "<a id='science:eq:03_011'></a><!--\\label{science:eq:03_011}-->$$\n",
    "\\begin{align}\n",
    "    s_\\nu \\,&=\\, s_\\nu^0 = const.\\\\\n",
    "    I_\\nu(\\tau_\\nu(x)) \\,&=\\, 0\\\\\n",
    "    \\tau_\\nu(x) \\,&\\ll\\, 1\\\\\n",
    "    &\\Rightarrow\\\\\n",
    "    I_\\nu(0)\\,&=\\, I_\\nu(x_0)\\,=\\, s_\\nu^0\\,\\tau_\\nu(x) \\\\\n",
    "\\end{align}\n",
    "$$"
   ]
  },
  {
   "cell_type": "markdown",
   "metadata": {},
   "source": [
    "which is proportional to $\\kappa_\\nu$ if $\\kappa_\\nu$ is constant. Thus, for a background source (in the optically thin case), we have"
   ]
  },
  {
   "cell_type": "markdown",
   "metadata": {},
   "source": [
    "<a id='science:eq:03_011'></a><!--\\label{science:eq:03_011}-->$$\n",
    "\\begin{align}\n",
    "    s_\\nu \\,&=\\, s_\\nu^0 = const.\\\\\n",
    "    I_\\nu(\\tau_\\nu(x)) \\,&\\neq\\, 0\\\\\n",
    "    \\tau_\\nu(x) \\,&\\ll\\, 1\\\\\n",
    "    &\\Rightarrow\\\\\n",
    "    I_\\nu(0)\\,&=\\, I_\\nu(x_0)\\,=\\, I_\\nu(\\tau(x))-\\tau_\\nu(x)(I_\\nu(\\tau(x))-s_\\nu^0) \\\\\n",
    "\\end{align}\n",
    "$$"
   ]
  },
  {
   "cell_type": "markdown",
   "metadata": {},
   "source": [
    "Note that, if the background intensity $I_\\nu(\\tau(x))$ is larger than the source function $s_\\nu^0$, the emission gets reduced (absorption). On the other hand, if $I_\\nu(\\tau(x))$ is lower than the source function, we witness an increase in brightness (emission case). As the blackbody radiation is always larger for a larger temperature, we can say that absorption occurs when a background source of a certain temperature is obscured by an optically thin slab of gas of lower temperature. On the contrary, when the source is colder than the medium in propagates through, the additional emission makes the source look brighter than it really is. \n",
    "\n",
    "<span style=\"background-color:yellow\">HLB:IC: Is all of this really necessary to\n",
    "show that a source will appear brighter when it's light passes through a hotter\n",
    "medium and dimmer when it passes through a cold absorbing medium?</span>"
   ]
  },
  {
   "cell_type": "markdown",
   "metadata": {},
   "source": [
    "***\n",
    "\n",
    "* Next: [1.4 Radio regime](1_4_radio_regime.ipynb)"
   ]
  }
 ],
 "metadata": {
  "kernelspec": {
   "display_name": "Python 2",
   "language": "python",
   "name": "python2"
  },
  "language_info": {
   "codemirror_mode": {
    "name": "ipython",
    "version": 2
   },
   "file_extension": ".py",
   "mimetype": "text/x-python",
   "name": "python",
   "nbconvert_exporter": "python",
   "pygments_lexer": "ipython2",
   "version": "2.7.6"
  }
 },
 "nbformat": 4,
 "nbformat_minor": 0
}
